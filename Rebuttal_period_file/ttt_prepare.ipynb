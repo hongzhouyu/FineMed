{
 "cells": [
  {
   "cell_type": "code",
   "execution_count": 8,
   "id": "9c9637a5",
   "metadata": {},
   "outputs": [],
   "source": [
    "from transformers import AutoTokenizer, AutoModelForCausalLM\n",
    "tokenizer = AutoTokenizer.from_pretrained(\"/FineMedLM-o1\")"
   ]
  },
  {
   "cell_type": "code",
   "execution_count": 1,
   "id": "1a5a9c61",
   "metadata": {},
   "outputs": [
    {
     "name": "stderr",
     "output_type": "stream",
     "text": [
      "/opt/conda/envs/dpo/lib/python3.12/site-packages/tqdm/auto.py:21: TqdmWarning: IProgress not found. Please update jupyter and ipywidgets. See https://ipywidgets.readthedocs.io/en/stable/user_install.html\n",
      "  from .autonotebook import tqdm as notebook_tqdm\n"
     ]
    },
    {
     "data": {
      "text/plain": [
       "DatasetDict({\n",
       "    train: Dataset({\n",
       "        features: ['text', 'complexity', 'quality', 'language', 'prompt', 'chosen', 'rejected'],\n",
       "        num_rows: 32919\n",
       "    })\n",
       "})"
      ]
     },
     "execution_count": 1,
     "metadata": {},
     "output_type": "execute_result"
    }
   ],
   "source": [
    "from datasets import load_dataset\n",
    "\n",
    "dataset = load_dataset(\"/inspire/hdd/ws-ba572160-47f8-4ca1-984e-d6bcdeb95dbb/a100-maybe/public/yhz/FineMed-DPO\")\n",
    "dataset"
   ]
  },
  {
   "cell_type": "code",
   "execution_count": 3,
   "id": "b49572cb",
   "metadata": {},
   "outputs": [
    {
     "data": {
      "text/plain": [
       "{'text': 'Arthur W. English, PhD, is Professor of Cell Biology and Rehabilitation Medicine at the School of Medicine, Emory University. At Emory, he concentrates on investigating recovery from nerve injury from multiple perspectives. On one level, he investigates methods to enhance axon regeneration post-injury, advancing our understanding of the interactions between neuronal activity, gonadal hormones, and neurotrophins. On another level, Dr. English is exploring spinal cord nerve synapse plasticity following nerve injury, with particular attention to the role of axonal protein synthesis. On a third level, Dr. English researches the effects of exercise on post-injury functional nerve recovery – this program is funded by the National Center for Medical Rehabilitation Research at the National Institute of Child Health and Human Development. Dr. English received his Ph.D. in Neuroscience at the University of Illinois.\\nArthur W. English, PhD\\nProfessor of Cell Biology and Rehabilitation Medicine, Emory University School of Medicine',\n",
       " 'complexity': 9,\n",
       " 'quality': 9,\n",
       " 'language': 'en',\n",
       " 'prompt': [{'content': 'How do the interactions between neuronal activity, gonadal hormones, and neurotrophins influence axon regeneration post-injury, and what are the potential therapeutic implications of this research? Please think step by step.',\n",
       "   'role': 'user'}],\n",
       " 'chosen': [{'content': \"## Thought\\n\\nTo answer this question, I need to understand how neuronal activity, gonadal hormones, and neurotrophins interact to influence axon regeneration after injury. Then, I should consider the potential therapeutic implications of this research.\\n\\nFirst, let's break down the key terms:\\n\\n1. **Neuronal activity**: This refers to the electrical and chemical signaling that occurs within and between nerve cells. It's fundamental for transmitting information in the nervous system.\\n\\n2. **Gonadal hormones**: These are hormones produced by the gonads (testes in males and ovaries in females), such as estrogen, testosterone, and progesterone. They play crucial roles in sexual development and reproduction but also have effects on other systems, including the nervous system.\\n\\n3. **Neurotrophins**: These are proteins that support the survival and function of neurons. They are essential for neuronal development, plasticity, and repair.\\n\\n4. **Axon regeneration**: After a nerve injury, the ability of axons (the long projections of neurons that conduct electrical impulses) to regrow and reconnect with their targets is critical for functional recovery.\\n\\nGiven that Arthur W. English, a professor at Emory University, is investigating these interactions, his research likely provides valuable insights into how these factors协同工作以促进损伤后的轴突再生。\\n\\n首先，神经活动在轴突再生中的作用是什么？神经活动可以影响神经元的存活和突触的可塑性。在损伤后，残余的神经活动可能触发再生过程。例如，通过增强神经元的内在再生能力或通过释放促进再生的信号分子。\\n\\n其次，性腺激素如何参与轴突再生？研究表明，性腺激素如雌激素和睾酮对神经系统有深远的影响。它们可以调节神经发生、神经保护和修复过程。例如，雌激素已被证明可以促进神经元的存活和突触的可塑性，而睾酮可能影响神经元的生长和分化。\\n\\n再者，神经营养因子在轴突再生中扮演什么角色？神经营养因子，如脑源性神经营养因子（BDNF）和神经生长因子（NGF），是已知的促进神经元生存和再生的关键分子。它们可以刺激轴突生长、增强突触连接，并在损伤后促进神经修复。\\n\\n现在，需要探讨这些因素之间的相互作用。可能的情况是，神经活动触发性腺激素的释放，进而调节神经营养因子的表达，从而影响轴突再生。或者，性腺激素可以直接影响神经活动，进而影响神经营养因子的水平和轴突再生的能力。\\n\\n为了更好地理解这一点，可以参考相关的研究文献。例如，有些研究可能已经探讨了在损伤后，性腺激素水平的变化如何影响神经活动和神经营养因子的表达，以及这些变化如何影响轴突再生的效果。\\n\\n此外，还需要考虑性别差异在这一过程中的作用，因为男性和女性的性腺激素水平不同，可能会影响轴突再生的效率。\\n\\n最后，基于对这些相互作用的理解，可以探讨潜在的治疗应用。例如，通过药物调节性腺激素水平，或者直接施用神经营养因子，以促进轴突再生和改善功能恢复。\\n\\n## Summarization\\n\\nIn summary, the interactions between neuronal activity, gonadal hormones, and neurotrophins play a significant role in axon regeneration post-injury. Neuronal activity can trigger regenerative processes and release factors that promote regeneration. Gonadal hormones, such as estrogen and testosterone, influence neural survival, plasticity, and repair, potentially modulating the expression of neurotrophins. Neurotrophins themselves are crucial for neuron survival and axon growth. Understanding these interplays could lead to therapeutic strategies involving hormone therapy or neurotrophin administration to enhance functional recovery after nerve injuries.\",\n",
       "   'role': 'assistant'}],\n",
       " 'rejected': [{'content': \"The interactions between neuronal activity, gonadal hormones, and neurotrophins play a crucial role in axon regeneration post-injury. Neuronal activity, which is the electrical and chemical signaling within neurons, can stimulate the production of neurotrophins—growth factors that promote neuronal survival and axon growth. Gonadal hormones, such as testosterone and estrogen, also influence axon regeneration by modulating the expression of genes involved in axon growth and by enhancing the availability of neurotrophins. For example, testosterone has been shown to increase the expression of brain-derived neurotrophic factor (BDNF), which is essential for axon elongation and synaptic plasticity. The combined effects of these factors can significantly enhance the regenerative capacity of injured neurons. Therapeutically, this research suggests that interventions aimed at modulating neuronal activity, optimizing hormone levels, and supplementing with neurotrophins could be effective in promoting axon regeneration and functional recovery after nerve injury. Dr. Arthur W. English's work at Emory University provides a comprehensive approach to understanding these interactions and developing targeted therapies for nerve injury recovery.\",\n",
       "   'role': 'assistant'}]}"
      ]
     },
     "execution_count": 3,
     "metadata": {},
     "output_type": "execute_result"
    }
   ],
   "source": [
    "dataset = dataset['train']\n",
    "dataset[0]"
   ]
  },
  {
   "cell_type": "code",
   "execution_count": 6,
   "id": "bcbe09c6",
   "metadata": {},
   "outputs": [
    {
     "data": {
      "text/plain": [
       "Dataset({\n",
       "    features: ['prompt', 'chosen', 'rejected'],\n",
       "    num_rows: 32919\n",
       "})"
      ]
     },
     "execution_count": 6,
     "metadata": {},
     "output_type": "execute_result"
    }
   ],
   "source": [
    "# FineMedLM-o1\n",
    "def convert_to_messages_format(example):\n",
    "    prompt = [{'content': \"\"\"You are a helpful professional doctor. You need to generate an answer based on the given problem and thoroughly explore the problem through a systematic and long-term thinking process to provide a final and accurate solution. This requires a comprehensive cycle of analysis, summary, exploration, re-evaluation, reflection, backtracking and iteration to form a thoughtful thinking process. Use the background information provided in the text to assist in formulating the answer. Follow these answer guidelines:\n",
    "1. Please structure your response into two main sections: **Thought** and **Summarization**.\n",
    "2. During the **Thought** phase, think step by step based on the given text content. If the text content is used, it must be expressed.\n",
    "3. During the **Summarization** phase, based on the thinking process in the thinking phase, give the final answer to the question.\n",
    "Here is the question: \"\"\",\n",
    "    'role': 'system'}]    \n",
    "    for p in example[\"prompt\"]:\n",
    "        prompt.append(p)\n",
    "    example[\"prompt\"] = prompt\n",
    "    return example\n",
    "\n",
    "# 转换结果\n",
    "converted_data = dataset.map(convert_to_messages_format, remove_columns=[\"text\", 'complexity', 'quality', 'language'])\n",
    "converted_data"
   ]
  },
  {
   "cell_type": "code",
   "execution_count": 9,
   "id": "e5fa1fef",
   "metadata": {},
   "outputs": [
    {
     "name": "stderr",
     "output_type": "stream",
     "text": [
      "100%|██████████| 32919/32919 [00:06<00:00, 5323.90it/s]\n"
     ]
    },
    {
     "data": {
      "text/plain": [
       "32919"
      ]
     },
     "execution_count": 9,
     "metadata": {},
     "output_type": "execute_result"
    }
   ],
   "source": [
    "# DPO\n",
    "from tqdm import tqdm\n",
    "\n",
    "def AddChat(example):\n",
    "    if \"prompt\" in example:\n",
    "            last_role = example[\"prompt\"][-1][\"role\"]\n",
    "            if last_role == \"user\":\n",
    "                add_generation_prompt = True\n",
    "                continue_final_message = False\n",
    "            elif last_role == \"assistant\":\n",
    "                add_generation_prompt = False\n",
    "                continue_final_message = True\n",
    "            else:\n",
    "                raise ValueError(f\"Invalid role in the last message: {last_role}\")\n",
    "            prompt = tokenizer.apply_chat_template(\n",
    "                example[\"prompt\"],\n",
    "                continue_final_message=continue_final_message,\n",
    "                tokenize=False,\n",
    "                add_generation_prompt=add_generation_prompt,\n",
    "            )\n",
    "\n",
    "    # Apply the chat template to the entire prompt + completion\n",
    "    if \"prompt\" in example:  # explicit prompt and prompt-completion case\n",
    "        if \"chosen\" in example:\n",
    "            prompt_chosen = tokenizer.apply_chat_template(\n",
    "                example[\"prompt\"] + example[\"chosen\"], tokenize=False\n",
    "            )\n",
    "            chosen = prompt_chosen[len(prompt) :]\n",
    "        if \"rejected\" in example and \"prompt\" in example:  # explicit prompt\n",
    "            prompt_rejected = tokenizer.apply_chat_template(\n",
    "                example[\"prompt\"] + example[\"rejected\"], tokenize=False\n",
    "            )\n",
    "            rejected = prompt_rejected[len(prompt) :]\n",
    "        if \"completion\" in example:\n",
    "            prompt_completion = tokenizer.apply_chat_template(\n",
    "                example[\"prompt\"] + example[\"completion\"], tokenize=False\n",
    "            )\n",
    "            completion = prompt_completion[len(prompt) :]\n",
    "    else:  # implicit prompt case\n",
    "        if \"chosen\" in example:\n",
    "            chosen = tokenizer.apply_chat_template(example[\"chosen\"], tokenize=False)\n",
    "        if \"rejected\" in example:\n",
    "            rejected = tokenizer.apply_chat_template(example[\"rejected\"], tokenize=False)\n",
    "\n",
    "    # Ensure that the prompt is the initial part of the prompt-completion string\n",
    "    if \"prompt\" in example:\n",
    "        error_message = (\n",
    "            \"The chat template applied to the prompt + completion does not start with the chat template applied to \"\n",
    "            \"the prompt alone. This can indicate that the chat template is not supported by TRL.\"\n",
    "            \"\\n**Prompt**:\\n{}\\n\\n**Prompt + Completion**:\\n{}\"\n",
    "        )\n",
    "        if \"chosen\" in example and not prompt_chosen.startswith(prompt):\n",
    "            raise ValueError(error_message.format(prompt, prompt_chosen))\n",
    "        if \"rejected\" in example and not prompt_rejected.startswith(prompt):\n",
    "            raise ValueError(error_message.format(prompt, prompt_rejected))\n",
    "        if \"completion\" in example and not prompt_completion.startswith(prompt):\n",
    "            raise ValueError(error_message.format(prompt, prompt_completion))\n",
    "\n",
    "    # Extract the completion by removing the prompt part from the prompt-completion string\n",
    "    output = {}\n",
    "    if \"prompt\" in example:\n",
    "        output[\"prompt\"] = prompt\n",
    "    if \"chosen\" in example:\n",
    "        output[\"chosen\"] = chosen\n",
    "    if \"rejected\" in example:\n",
    "        output[\"rejected\"] = rejected\n",
    "    if \"completion\" in example:\n",
    "        output[\"completion\"] = completion\n",
    "    if \"label\" in example:\n",
    "        output[\"label\"] = example[\"label\"]\n",
    "    return output\n",
    "\n",
    "messages = []\n",
    "for example in tqdm(converted_data):\n",
    "    messages.append(AddChat(example))\n",
    "len(messages)"
   ]
  },
  {
   "cell_type": "code",
   "execution_count": 11,
   "id": "fe6ae9b7",
   "metadata": {},
   "outputs": [
    {
     "data": {
      "text/plain": [
       "\"<|begin_of_text|><|start_header_id|>system<|end_header_id|>\\n\\nCutting Knowledge Date: December 2023\\nToday Date: 26 Jul 2024\\n\\nYou are a helpful professional doctor. You need to generate an answer based on the given problem and thoroughly explore the problem through a systematic and long-term thinking process to provide a final and accurate solution. This requires a comprehensive cycle of analysis, summary, exploration, re-evaluation, reflection, backtracking and iteration to form a thoughtful thinking process. Use the background information provided in the text to assist in formulating the answer. Follow these answer guidelines:\\n1. Please structure your response into two main sections: **Thought** and **Summarization**.\\n2. During the **Thought** phase, think step by step based on the given text content. If the text content is used, it must be expressed.\\n3. During the **Summarization** phase, based on the thinking process in the thinking phase, give the final answer to the question.\\nHere is the question:<|eot_id|><|start_header_id|>user<|end_header_id|>\\n\\nHow do the interactions between neuronal activity, gonadal hormones, and neurotrophins influence axon regeneration post-injury, and what are the potential therapeutic implications of this research? Please think step by step.<|eot_id|><|start_header_id|>assistant<|end_header_id|>\\n\\n## Thought\\n\\nTo answer this question, I need to understand how neuronal activity, gonadal hormones, and neurotrophins interact to influence axon regeneration after injury. Then, I should consider the potential therapeutic implications of this research.\\n\\nFirst, let's break down the key terms:\\n\\n1. **Neuronal activity**: This refers to the electrical and chemical signaling that occurs within and between nerve cells. It's fundamental for transmitting information in the nervous system.\\n\\n2. **Gonadal hormones**: These are hormones produced by the gonads (testes in males and ovaries in females), such as estrogen, testosterone, and progesterone. They play crucial roles in sexual development and reproduction but also have effects on other systems, including the nervous system.\\n\\n3. **Neurotrophins**: These are proteins that support the survival and function of neurons. They are essential for neuronal development, plasticity, and repair.\\n\\n4. **Axon regeneration**: After a nerve injury, the ability of axons (the long projections of neurons that conduct electrical impulses) to regrow and reconnect with their targets is critical for functional recovery.\\n\\nGiven that Arthur W. English, a professor at Emory University, is investigating these interactions, his research likely provides valuable insights into how these factors协同工作以促进损伤后的轴突再生。\\n\\n首先，神经活动在轴突再生中的作用是什么？神经活动可以影响神经元的存活和突触的可塑性。在损伤后，残余的神经活动可能触发再生过程。例如，通过增强神经元的内在再生能力或通过释放促进再生的信号分子。\\n\\n其次，性腺激素如何参与轴突再生？研究表明，性腺激素如雌激素和睾酮对神经系统有深远的影响。它们可以调节神经发生、神经保护和修复过程。例如，雌激素已被证明可以促进神经元的存活和突触的可塑性，而睾酮可能影响神经元的生长和分化。\\n\\n再者，神经营养因子在轴突再生中扮演什么角色？神经营养因子，如脑源性神经营养因子（BDNF）和神经生长因子（NGF），是已知的促进神经元生存和再生的关键分子。它们可以刺激轴突生长、增强突触连接，并在损伤后促进神经修复。\\n\\n现在，需要探讨这些因素之间的相互作用。可能的情况是，神经活动触发性腺激素的释放，进而调节神经营养因子的表达，从而影响轴突再生。或者，性腺激素可以直接影响神经活动，进而影响神经营养因子的水平和轴突再生的能力。\\n\\n为了更好地理解这一点，可以参考相关的研究文献。例如，有些研究可能已经探讨了在损伤后，性腺激素水平的变化如何影响神经活动和神经营养因子的表达，以及这些变化如何影响轴突再生的效果。\\n\\n此外，还需要考虑性别差异在这一过程中的作用，因为男性和女性的性腺激素水平不同，可能会影响轴突再生的效率。\\n\\n最后，基于对这些相互作用的理解，可以探讨潜在的治疗应用。例如，通过药物调节性腺激素水平，或者直接施用神经营养因子，以促进轴突再生和改善功能恢复。\\n\\n## Summarization\\n\\nIn summary, the interactions between neuronal activity, gonadal hormones, and neurotrophins play a significant role in axon regeneration post-injury. Neuronal activity can trigger regenerative processes and release factors that promote regeneration. Gonadal hormones, such as estrogen and testosterone, influence neural survival, plasticity, and repair, potentially modulating the expression of neurotrophins. Neurotrophins themselves are crucial for neuron survival and axon growth. Understanding these interplays could lead to therapeutic strategies involving hormone therapy or neurotrophin administration to enhance functional recovery after nerve injuries.<|eot_id|>\""
      ]
     },
     "execution_count": 11,
     "metadata": {},
     "output_type": "execute_result"
    }
   ],
   "source": [
    "texts = []\n",
    "for text in messages:\n",
    "    texts.append(text['prompt'] + text['chosen'])\n",
    "texts[0]"
   ]
  },
  {
   "cell_type": "code",
   "execution_count": 12,
   "id": "f3084385",
   "metadata": {},
   "outputs": [],
   "source": [
    "import json\n",
    "\n",
    "# 保存为 jsonl 文件\n",
    "with open(\"/tttdata.jsonl\", \"w\", encoding=\"utf-8\") as f:\n",
    "    for line in texts:\n",
    "        json_line = json.dumps({\"text\": line}, ensure_ascii=False)\n",
    "        f.write(json_line + \"\\n\")"
   ]
  },
  {
   "cell_type": "code",
   "execution_count": 13,
   "id": "fbdda5b8",
   "metadata": {},
   "outputs": [
    {
     "name": "stderr",
     "output_type": "stream",
     "text": [
      "Processing: 32919it [18:19, 29.93it/s]\n"
     ]
    },
    {
     "name": "stdout",
     "output_type": "stream",
     "text": [
      "✅ 嵌入和文本已保存完毕。\n"
     ]
    }
   ],
   "source": [
    "import torch\n",
    "import json\n",
    "\n",
    "from tqdm import tqdm\n",
    "from transformers import AutoTokenizer, AutoModel\n",
    "from pathlib import Path\n",
    "\n",
    "# 配置模型\n",
    "embedding_model_name = \"/inspire/hdd/ws-ba572160-47f8-4ca1-984e-d6bcdeb95dbb/a100-maybe/public/yhz/embedding_model\"\n",
    "tokenizer = AutoTokenizer.from_pretrained(embedding_model_name)\n",
    "model = AutoModel.from_pretrained(embedding_model_name)\n",
    "model.eval()\n",
    "model.cuda()  # 如果有 GPU\n",
    "\n",
    "def get_embedding(text):\n",
    "    inputs = tokenizer(text, return_tensors=\"pt\", padding=True, truncation=True)\n",
    "    inputs = {k: v.cuda() for k, v in inputs.items()}\n",
    "    with torch.no_grad():\n",
    "        output = model(**inputs).last_hidden_state.mean(dim=1)\n",
    "    return output.squeeze(0).cpu()  # 返回 (D,)\n",
    "\n",
    "# 读取 jsonl 文件\n",
    "jsonl_path = \"/tttdata.jsonl\"\n",
    "texts = []\n",
    "embeddings = []\n",
    "\n",
    "with open(jsonl_path, \"r\", encoding=\"utf-8\") as f:\n",
    "    for line in tqdm(f, desc=\"Processing\"):\n",
    "        item = json.loads(line)\n",
    "        text = item.get(\"text\", \"\").strip()\n",
    "        if not text:\n",
    "            continue\n",
    "        texts.append(text)\n",
    "        emb = get_embedding(text)\n",
    "        embeddings.append(emb)\n",
    "\n",
    "# 转为 tensor 格式\n",
    "embeddings_tensor = torch.stack(embeddings)  # (N, D)\n",
    "\n",
    "# 保存\n",
    "torch.save(embeddings_tensor, \"/finemed_embeddings.pt\")\n",
    "torch.save(texts, \"/finemed_texts.pt\")\n",
    "\n",
    "print(\"✅ 嵌入和文本已保存完毕。\")\n"
   ]
  }
 ],
 "metadata": {
  "kernelspec": {
   "display_name": "dpo",
   "language": "python",
   "name": "python3"
  },
  "language_info": {
   "codemirror_mode": {
    "name": "ipython",
    "version": 3
   },
   "file_extension": ".py",
   "mimetype": "text/x-python",
   "name": "python",
   "nbconvert_exporter": "python",
   "pygments_lexer": "ipython3",
   "version": "3.12.9"
  }
 },
 "nbformat": 4,
 "nbformat_minor": 5
}
