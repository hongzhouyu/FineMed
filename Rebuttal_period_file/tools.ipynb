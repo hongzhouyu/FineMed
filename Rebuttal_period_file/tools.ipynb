{
 "cells": [
  {
   "cell_type": "code",
   "execution_count": 1,
   "id": "b57b53aa",
   "metadata": {},
   "outputs": [
    {
     "name": "stderr",
     "output_type": "stream",
     "text": [
      "/opt/conda/envs/dpo/lib/python3.12/site-packages/tqdm/auto.py:21: TqdmWarning: IProgress not found. Please update jupyter and ipywidgets. See https://ipywidgets.readthedocs.io/en/stable/user_install.html\n",
      "  from .autonotebook import tqdm as notebook_tqdm\n",
      "Loading checkpoint shards: 100%|██████████| 4/4 [00:15<00:00,  3.82s/it]\n"
     ]
    }
   ],
   "source": [
    "from transformers import AutoTokenizer, AutoModelForCausalLM\n",
    "import torch\n",
    "import time\n",
    "\n",
    "# 指定模型路径\n",
    "model_path = \"/inspire/hdd/ws-ba572160-47f8-4ca1-984e-d6bcdeb95dbb/a100-maybe/yuhongzhou/rebuttal/FineMedLM-o1\"\n",
    "\n",
    "# 加载模型和 tokenizer，并放到 GPU 上\n",
    "tokenizer = AutoTokenizer.from_pretrained(model_path)\n",
    "model = AutoModelForCausalLM.from_pretrained(model_path).to(\"cuda:1\")  # 或 torch.device(\"cuda\")"
   ]
  },
  {
   "cell_type": "code",
   "execution_count": 2,
   "id": "5126c244",
   "metadata": {},
   "outputs": [
    {
     "data": {
      "text/plain": [
       "('<|eot_id|>', '<|eot_id|>')"
      ]
     },
     "execution_count": 2,
     "metadata": {},
     "output_type": "execute_result"
    }
   ],
   "source": [
    "tokenizer.pad_token, tokenizer.eos_token"
   ]
  },
  {
   "cell_type": "code",
   "execution_count": 2,
   "id": "42a6000a",
   "metadata": {},
   "outputs": [
    {
     "name": "stderr",
     "output_type": "stream",
     "text": [
      "The attention mask and the pad token id were not set. As a consequence, you may observe unexpected behavior. Please pass your input's `attention_mask` to obtain reliable results.\n",
      "Setting `pad_token_id` to `eos_token_id`:128009 for open-end generation.\n",
      "The attention mask is not set and cannot be inferred from input because pad token is same as eos token. As a consequence, you may observe unexpected behavior. Please pass your input's `attention_mask` to obtain reliable results.\n"
     ]
    },
    {
     "name": "stdout",
     "output_type": "stream",
     "text": [
      "<|begin_of_text|><|start_header_id|>system<|end_header_id|>\n",
      "\n",
      "Cutting Knowledge Date: December 2023\n",
      "Today Date: 26 Jul 2024\n",
      "\n",
      "You are a helpful professional doctor. You need to generate an answer based on the given problem and thoroughly explore the problem through a systematic and long-term thinking process to provide a final and accurate solution. This requires a comprehensive cycle of analysis, summary, exploration, re-evaluation, reflection, backtracking and iteration to form a thoughtful thinking process. Use the background information provided in the text to assist in formulating the answer. Follow these answer guidelines:\n",
      "1. Please structure your response into two main sections: **Thought** and **Summarization**.\n",
      "2. During the **Thought** phase, think step by step based on the given text content. If the text content is used, it must be expressed.\n",
      "3. During the **Summarization** phase, based on the thinking process in the thinking phase, give the final answer to the question.\n",
      "Here is the question:<|eot_id|><|start_header_id|>user<|end_header_id|>\n",
      "\n",
      "The following are multiple choice questions (with answers) about health. Think step by step and then finish your answer with \"the answer is (X)\" where X is the correct letter choice.\n",
      "\n",
      "\n",
      "Question:\n",
      "Polio can be eradicated by which of the following?\n",
      "Options:\n",
      "A. Herbal remedies\n",
      "B. Use of antibiotics\n",
      "C. Regular intake of vitamins\n",
      "D. Administration of tetanus vaccine\n",
      "E. Attention to sewage control and hygiene\n",
      "F. Natural immunity acquired through exposure\n",
      "G. Use of antiviral drugs\n",
      "Answer: Let's think step by step.<|eot_id|><|start_header_id|>assistant<|end_header_id|>\n",
      "\n",
      "\n",
      "-----start generate-----\n",
      "Generation took 15.40 seconds.\n",
      "First, I need to understand what polio is and how it can be eradicated. Polio is a highly infectious disease caused by the poliovirus, which can lead to paralysis and death in severe cases. It's a serious concern, especially in regions with poor sanitation and limited access to healthcare.\n",
      "\n",
      "Looking at the options, I need to see which ones directly address polio and its transmission, and which ones are more relevant to other health issues.\n",
      "\n",
      "Starting with A: Herbal remedies. I don't see any connection between herbal remedies and polio. Polio is caused by a virus, and herbal remedies are typically used for bacterial or viral infections, but not specifically for polio. So, I can rule this out.\n",
      "\n",
      "B: Antibiotics. Antibiotics are used to treat bacterial infections, not viral infections like polio. While some antiviral drugs are available, they aren't effective against poliovirus. Therefore, this isn't the answer.\n",
      "\n",
      "C: Regular intake of vitamins. Vitamins are essential for overall health, but they don't prevent or treat polio. Some vitamins have immune-boosting properties, but polio is primarily spread through fecal-oral transmission, so hygiene and vaccination are more crucial.\n",
      "\n",
      "D: Tetanus vaccine. Tetanus is caused by bacteria, not viruses, so this isn't relevant to polio.\n",
      "\n",
      "E: Attention to sewage control and hygiene. This is directly related to polio prevention. Since polio is transmitted through contaminated water and poor hygiene, maintaining clean water sources and proper sanitation is key to eradicating the virus.\n",
      "\n",
      "F: Natural immunity acquired through exposure. This is a dangerous approach because polio can cause severe paralysis and death. Therefore, inducing immunity through exposure is not recommended and is not a safe method to eradicate the disease.\n",
      "\n",
      "G: Use of antiviral drugs. As mentioned earlier, antiviral drugs aren't effective against poliovirus, so this isn't the answer.\n",
      "\n",
      "So, based on the options provided, the correct answer is E: Attention to sewage control and hygiene.\n",
      "\n",
      "Summarization:\n",
      "Polio can be eradicated through rigorous attention to sewage control and hygiene practices, as it is primarily transmitted through contaminated water and poor sanitation. This includes maintaining clean water sources, proper waste disposal, and promoting hygiene practices to prevent the spread of the virus. Vaccination programs also play a crucial role in achieving herd immunity and ultimately eradicating polio worldwide.<|eot_id|>\n"
     ]
    }
   ],
   "source": [
    "# 构造输入\n",
    "prompt = (\n",
    "    \"\"\"The following are multiple choice questions (with answers) about health. Think step by step and then finish your answer with \"the answer is (X)\" where X is the correct letter choice.\n",
    "\n",
    "\n",
    "Question:\n",
    "Polio can be eradicated by which of the following?\n",
    "Options:\n",
    "A. Herbal remedies\n",
    "B. Use of antibiotics\n",
    "C. Regular intake of vitamins\n",
    "D. Administration of tetanus vaccine\n",
    "E. Attention to sewage control and hygiene\n",
    "F. Natural immunity acquired through exposure\n",
    "G. Use of antiviral drugs\n",
    "Answer: Let's think step by step.\n",
    "\"\"\"\n",
    ")\n",
    "messages = [\n",
    "    {\"role\": \"system\", \"content\": \"\"\"You are a helpful professional doctor. You need to generate an answer based on the given problem and thoroughly explore the problem through a systematic and long-term thinking process to provide a final and accurate solution. This requires a comprehensive cycle of analysis, summary, exploration, re-evaluation, reflection, backtracking and iteration to form a thoughtful thinking process. Use the background information provided in the text to assist in formulating the answer. Follow these answer guidelines:\n",
    "1. Please structure your response into two main sections: **Thought** and **Summarization**.\n",
    "2. During the **Thought** phase, think step by step based on the given text content. If the text content is used, it must be expressed.\n",
    "3. During the **Summarization** phase, based on the thinking process in the thinking phase, give the final answer to the question.\n",
    "Here is the question: \"\"\"},\n",
    "    {\"role\": \"user\", \"content\": prompt}\n",
    "]\n",
    "text = tokenizer.apply_chat_template(messages, tokenize=False, add_generation_prompt=True)\n",
    "print(text)\n",
    "\n",
    "model_inputs = tokenizer([text], return_tensors=\"pt\").to(\"cuda:1\")  # 把输入也放到 GPU\n",
    "\n",
    "# 推理并计时\n",
    "print(\"-----start generate-----\")\n",
    "start_time = time.time()\n",
    "generated_ids = model.generate(\n",
    "    model_inputs.input_ids,\n",
    "    max_new_tokens=2048,\n",
    "    eos_token_id=tokenizer.eos_token_id\n",
    ")\n",
    "end_time = time.time()\n",
    "print(f\"Generation took {end_time - start_time:.2f} seconds.\")\n",
    "\n",
    "# 解码输出\n",
    "generated_text = tokenizer.batch_decode(\n",
    "    generated_ids[:, model_inputs.input_ids.shape[-1]:],\n",
    "    skip_special_tokens=False\n",
    ")[0]\n",
    "print(generated_text)"
   ]
  },
  {
   "cell_type": "code",
   "execution_count": 15,
   "id": "c75ccfd2",
   "metadata": {},
   "outputs": [
    {
     "name": "stderr",
     "output_type": "stream",
     "text": [
      "Generating train split: 11477 examples [00:00, 78284.80 examples/s]\n"
     ]
    },
    {
     "data": {
      "text/plain": [
       "({'text': 'IDEAL PROTEIN WEIGHT LOSS METHOD\\nA Medically Developed Weight Loss Method\\nWith a Beginning, Middle and End.\\nOur Weight Loss Method is a medically designed protocol containing 2 key components – weight loss and a healthier lifestyle education to assist you in maintaining your results after dieting. Our protocol has evolved for over 20 years, but was originally developed over 2 decades ago by Dr. Tran Tien Chanh who focused his career and research on nutrition with a particular emphasis on the treatment of obesity and obesity related issues.\\nThis protocol is the recommended weight loss method in over 3,000 Professional Establishments worldwide!\\nUnderstanding The Cause of Weight Gain Will Help You Conquer it\\nAn overproduction of insulin may lead to hypoglycemia, or low blood sugar, which in turn may induce constant sugar cravings and weight gain. One of Insulin’s primary functions is to regulate blood sugar levels, however, it is also the hormone that facilitates the transport of fat (triglycerides) into the fat cells. Even worse, it \"locks\" the fat into the fat cell, preventing it from being used as a source of energy. Now, because the blood sugar has dropped (and we can’t access the fat as a fuel source) it creates \"sugar cravings\\' and the vicious cycle begins again. In other words, an over abundance of insulin can cause weight gain.\\n\"The cause of many weight issues in a modern society is insulin dysfunction. A diet grossly disproportionate in its share of saturated fats and sugars, such as in breads, cereals, muffins, cakes, pastries, pasta, pizza, rice, corn - very much like the North American diet - causes the pancreas to produce an overabundance of insulin, which stays in the system and puts the blood sugar level in a negative balance.”\\n— Dr. Tran Tien\\nWhat Will I Be Eating?\\nTypical dieters consume 3 highly bio-available protein products, as well as one meal they prepare themselves from lean protein and non-starchy vegetables. The foods are surprisingly delicious... And with a list of over 70 foods, some of which are gluten-free, soy-free or dairy-free, there\\'s something for nearly everyone!\\nOur Method and What To Expect\\nStructured weight loss while supporting muscle mass\\nAn understanding of how food affects and is utilized by the body, including what causes fat storage\\nWeekly one-on-one coaching, lifestyle education and guidance\\nPersonalized approach to setting weight loss goals, based on your health profile\\nLosing weight can improve blood sugar, cholesterol levels and reduce blood pressure\\nZentral Wellness is an independently owned and operated clinic/center authorized to promote and sell Ideal Protein® products and the Ideal Protein ® Weight Loss Method. Consult www.idealprotein.com for more information about the Ideal Protein ® Weight Loss Method and Ideal Protein ® products and services. Any express or implied statement herein that is not made by Ideal Protein itself or is otherwise inconsistent with or different from the express or implied statements contained in www.idealprotein.com materials, including regarding any benefit, performance or specific weight loss expected or achieved with the use of the Ideal Protein ® Weight Loss Method or Ideal Protein ® products or services is made solely by Zentral Wellness, and Ideal Protein specifically disclaims any and all such statements that are not explicitly or implicitly made in, or that are otherwise inconsistent with statements in www.idealprotein.com materials, and Ideal Protein explicitly disclaims any and all responsibility relating thereto.\\nWHAT PEOPLE SAY\\n\"I\\'ve never felt more welcome and cared about, at a healthcare provider or any other type of business, than at Zentral. Also, this is the healthiest I\\'ve been, overall, possibly ever\"',\n",
       "  'instruction': 'How does an overproduction of insulin contribute to weight gain, and what dietary changes can help manage this condition?',\n",
       "  'complexity': 7,\n",
       "  'quality': 8,\n",
       "  'language': 'en',\n",
       "  'response': 'An overproduction of insulin contributes to weight gain by facilitating the transport of fat into fat cells and locking it there, which prevents the body from using it as an energy source. This leads to a drop in blood sugar levels, causing sugar cravings and a vicious cycle of overeating. To manage this condition, dietary changes such as reducing the intake of foods high in refined sugars and saturated fats can be beneficial. The Ideal Protein Weight Loss Method, for example, recommends a diet rich in highly bio-available protein products and non-starchy vegetables, which can help stabilize blood sugar levels and reduce insulin spikes. This structured approach, combined with weekly coaching and lifestyle education, can support a healthier weight and improve overall metabolic function.',\n",
       "  'instruction_type': 'common'},\n",
       " Dataset({\n",
       "     features: ['text', 'instruction', 'complexity', 'quality', 'language', 'response', 'instruction_type'],\n",
       "     num_rows: 11477\n",
       " }))"
      ]
     },
     "execution_count": 15,
     "metadata": {},
     "output_type": "execute_result"
    }
   ],
   "source": [
    "from datasets import load_dataset\n",
    "\n",
    "# 读取 jsonl 文件\n",
    "dataset = load_dataset(\"json\", data_files=\"/inspire/hdd/ws-ba572160-47f8-4ca1-984e-d6bcdeb95dbb/a100-maybe/yuhongzhou/rebuttal/Endocrinology.jsonl\", split=\"train\")\n",
    "\n",
    "# 打印部分数据\n",
    "dataset[0], dataset"
   ]
  },
  {
   "cell_type": "code",
   "execution_count": 17,
   "id": "76a88ae8",
   "metadata": {},
   "outputs": [
    {
     "data": {
      "text/plain": [
       "({'text': 'Arthur W. English, PhD, is Professor of Cell Biology and Rehabilitation Medicine at the School of Medicine, Emory University. At Emory, he concentrates on investigating recovery from nerve injury from multiple perspectives. On one level, he investigates methods to enhance axon regeneration post-injury, advancing our understanding of the interactions between neuronal activity, gonadal hormones, and neurotrophins. On another level, Dr. English is exploring spinal cord nerve synapse plasticity following nerve injury, with particular attention to the role of axonal protein synthesis. On a third level, Dr. English researches the effects of exercise on post-injury functional nerve recovery – this program is funded by the National Center for Medical Rehabilitation Research at the National Institute of Child Health and Human Development. Dr. English received his Ph.D. in Neuroscience at the University of Illinois.\\nArthur W. English, PhD\\nProfessor of Cell Biology and Rehabilitation Medicine, Emory University School of Medicine',\n",
       "  'complexity': 9,\n",
       "  'quality': 9,\n",
       "  'language': 'en',\n",
       "  'prompt': [{'content': 'How do the interactions between neuronal activity, gonadal hormones, and neurotrophins influence axon regeneration post-injury, and what are the potential therapeutic implications of this research? Please think step by step.',\n",
       "    'role': 'user'}],\n",
       "  'chosen': [{'content': \"## Thought\\n\\nTo answer this question, I need to understand how neuronal activity, gonadal hormones, and neurotrophins interact to influence axon regeneration after injury. Then, I should consider the potential therapeutic implications of this research.\\n\\nFirst, let's break down the key terms:\\n\\n1. **Neuronal activity**: This refers to the electrical and chemical signaling that occurs within and between nerve cells. It's fundamental for transmitting information in the nervous system.\\n\\n2. **Gonadal hormones**: These are hormones produced by the gonads (testes in males and ovaries in females), such as estrogen, testosterone, and progesterone. They play crucial roles in sexual development and reproduction but also have effects on other systems, including the nervous system.\\n\\n3. **Neurotrophins**: These are proteins that support the survival and function of neurons. They are essential for neuronal development, plasticity, and repair.\\n\\n4. **Axon regeneration**: After a nerve injury, the ability of axons (the long projections of neurons that conduct electrical impulses) to regrow and reconnect with their targets is critical for functional recovery.\\n\\nGiven that Arthur W. English, a professor at Emory University, is investigating these interactions, his research likely provides valuable insights into how these factors协同工作以促进损伤后的轴突再生。\\n\\n首先，神经活动在轴突再生中的作用是什么？神经活动可以影响神经元的存活和突触的可塑性。在损伤后，残余的神经活动可能触发再生过程。例如，通过增强神经元的内在再生能力或通过释放促进再生的信号分子。\\n\\n其次，性腺激素如何参与轴突再生？研究表明，性腺激素如雌激素和睾酮对神经系统有深远的影响。它们可以调节神经发生、神经保护和修复过程。例如，雌激素已被证明可以促进神经元的存活和突触的可塑性，而睾酮可能影响神经元的生长和分化。\\n\\n再者，神经营养因子在轴突再生中扮演什么角色？神经营养因子，如脑源性神经营养因子（BDNF）和神经生长因子（NGF），是已知的促进神经元生存和再生的关键分子。它们可以刺激轴突生长、增强突触连接，并在损伤后促进神经修复。\\n\\n现在，需要探讨这些因素之间的相互作用。可能的情况是，神经活动触发性腺激素的释放，进而调节神经营养因子的表达，从而影响轴突再生。或者，性腺激素可以直接影响神经活动，进而影响神经营养因子的水平和轴突再生的能力。\\n\\n为了更好地理解这一点，可以参考相关的研究文献。例如，有些研究可能已经探讨了在损伤后，性腺激素水平的变化如何影响神经活动和神经营养因子的表达，以及这些变化如何影响轴突再生的效果。\\n\\n此外，还需要考虑性别差异在这一过程中的作用，因为男性和女性的性腺激素水平不同，可能会影响轴突再生的效率。\\n\\n最后，基于对这些相互作用的理解，可以探讨潜在的治疗应用。例如，通过药物调节性腺激素水平，或者直接施用神经营养因子，以促进轴突再生和改善功能恢复。\\n\\n## Summarization\\n\\nIn summary, the interactions between neuronal activity, gonadal hormones, and neurotrophins play a significant role in axon regeneration post-injury. Neuronal activity can trigger regenerative processes and release factors that promote regeneration. Gonadal hormones, such as estrogen and testosterone, influence neural survival, plasticity, and repair, potentially modulating the expression of neurotrophins. Neurotrophins themselves are crucial for neuron survival and axon growth. Understanding these interplays could lead to therapeutic strategies involving hormone therapy or neurotrophin administration to enhance functional recovery after nerve injuries.\",\n",
       "    'role': 'assistant'}],\n",
       "  'rejected': [{'content': \"The interactions between neuronal activity, gonadal hormones, and neurotrophins play a crucial role in axon regeneration post-injury. Neuronal activity, which is the electrical and chemical signaling within neurons, can stimulate the production of neurotrophins—growth factors that promote neuronal survival and axon growth. Gonadal hormones, such as testosterone and estrogen, also influence axon regeneration by modulating the expression of genes involved in axon growth and by enhancing the availability of neurotrophins. For example, testosterone has been shown to increase the expression of brain-derived neurotrophic factor (BDNF), which is essential for axon elongation and synaptic plasticity. The combined effects of these factors can significantly enhance the regenerative capacity of injured neurons. Therapeutically, this research suggests that interventions aimed at modulating neuronal activity, optimizing hormone levels, and supplementing with neurotrophins could be effective in promoting axon regeneration and functional recovery after nerve injury. Dr. Arthur W. English's work at Emory University provides a comprehensive approach to understanding these interactions and developing targeted therapies for nerve injury recovery.\",\n",
       "    'role': 'assistant'}]},\n",
       " Dataset({\n",
       "     features: ['text', 'complexity', 'quality', 'language', 'prompt', 'chosen', 'rejected'],\n",
       "     num_rows: 32919\n",
       " }))"
      ]
     },
     "execution_count": 17,
     "metadata": {},
     "output_type": "execute_result"
    }
   ],
   "source": [
    "dataset = ds['train']\n",
    "dataset[0], dataset"
   ]
  },
  {
   "cell_type": "code",
   "execution_count": null,
   "id": "aa305035",
   "metadata": {},
   "outputs": [],
   "source": [
    "# FineMedLM\n",
    "def convert_to_messages_format(data):\n",
    "    return {\n",
    "        \"messages\": [\n",
    "            {\n",
    "                \"role\": \"system\",\n",
    "                \"content\": \"You are a helpful professional doctor. The user will give you a medical question, and you should answer it in a professional way.\"\n",
    "            },\n",
    "            {\n",
    "                \"role\": \"user\",\n",
    "                \"content\": data[\"instruction\"]\n",
    "            },\n",
    "            {\n",
    "                \"role\": \"assistant\",\n",
    "                \"content\": data[\"response\"]\n",
    "            }\n",
    "        ]\n",
    "    }\n",
    "\n",
    "# 转换结果\n",
    "converted_data = dataset.map(convert_to_messages_format, remove_columns=dataset.column_names)\n",
    "converted_data"
   ]
  },
  {
   "cell_type": "code",
   "execution_count": 18,
   "id": "5f436a9d",
   "metadata": {},
   "outputs": [
    {
     "data": {
      "text/plain": [
       "{'content': 'How do the interactions between neuronal activity, gonadal hormones, and neurotrophins influence axon regeneration post-injury, and what are the potential therapeutic implications of this research? Please think step by step.',\n",
       " 'role': 'user'}"
      ]
     },
     "execution_count": 18,
     "metadata": {},
     "output_type": "execute_result"
    }
   ],
   "source": [
    "dataset[0]['prompt'][0]"
   ]
  },
  {
   "cell_type": "code",
   "execution_count": 23,
   "id": "113ca77b",
   "metadata": {},
   "outputs": [
    {
     "name": "stderr",
     "output_type": "stream",
     "text": [
      "Map: 100%|██████████| 32919/32919 [00:02<00:00, 13052.68 examples/s]\n"
     ]
    },
    {
     "data": {
      "text/plain": [
       "Dataset({\n",
       "    features: ['prompt', 'chosen', 'rejected'],\n",
       "    num_rows: 32919\n",
       "})"
      ]
     },
     "execution_count": 23,
     "metadata": {},
     "output_type": "execute_result"
    }
   ],
   "source": [
    "# FineMedLM-o1\n",
    "def convert_to_messages_format(example):\n",
    "    prompt = [{'content': \"\"\"You are a helpful professional doctor. You need to generate an answer based on the given problem and thoroughly explore the problem through a systematic and long-term thinking process to provide a final and accurate solution. This requires a comprehensive cycle of analysis, summary, exploration, re-evaluation, reflection, backtracking and iteration to form a thoughtful thinking process. Use the background information provided in the text to assist in formulating the answer. Follow these answer guidelines:\n",
    "1. Please structure your response into two main sections: **Thought** and **Summarization**.\n",
    "2. During the **Thought** phase, think step by step based on the given text content. If the text content is used, it must be expressed.\n",
    "3. During the **Summarization** phase, based on the thinking process in the thinking phase, give the final answer to the question.\n",
    "Here is the question: \"\"\",\n",
    "    'role': 'system'}]    \n",
    "    for p in example[\"prompt\"]:\n",
    "        prompt.append(p)\n",
    "    example[\"prompt\"] = prompt\n",
    "    return example\n",
    "\n",
    "# 转换结果\n",
    "converted_data = dataset.map(convert_to_messages_format, remove_columns=[\"text\", 'complexity', 'quality', 'language'])\n",
    "converted_data"
   ]
  },
  {
   "cell_type": "code",
   "execution_count": 24,
   "id": "6e9e7ca4",
   "metadata": {},
   "outputs": [
    {
     "data": {
      "text/plain": [
       "{'prompt': [{'content': 'You are a helpful professional doctor. You need to generate an answer based on the given problem and thoroughly explore the problem through a systematic and long-term thinking process to provide a final and accurate solution. This requires a comprehensive cycle of analysis, summary, exploration, re-evaluation, reflection, backtracking and iteration to form a thoughtful thinking process. Use the background information provided in the text to assist in formulating the answer. Follow these answer guidelines:\\n1. Please structure your response into two main sections: **Thought** and **Summarization**.\\n2. During the **Thought** phase, think step by step based on the given text content. If the text content is used, it must be expressed.\\n3. During the **Summarization** phase, based on the thinking process in the thinking phase, give the final answer to the question.\\nHere is the question: ',\n",
       "   'role': 'system'},\n",
       "  {'content': 'How do the interactions between neuronal activity, gonadal hormones, and neurotrophins influence axon regeneration post-injury, and what are the potential therapeutic implications of this research? Please think step by step.',\n",
       "   'role': 'user'}],\n",
       " 'chosen': [{'content': \"## Thought\\n\\nTo answer this question, I need to understand how neuronal activity, gonadal hormones, and neurotrophins interact to influence axon regeneration after injury. Then, I should consider the potential therapeutic implications of this research.\\n\\nFirst, let's break down the key terms:\\n\\n1. **Neuronal activity**: This refers to the electrical and chemical signaling that occurs within and between nerve cells. It's fundamental for transmitting information in the nervous system.\\n\\n2. **Gonadal hormones**: These are hormones produced by the gonads (testes in males and ovaries in females), such as estrogen, testosterone, and progesterone. They play crucial roles in sexual development and reproduction but also have effects on other systems, including the nervous system.\\n\\n3. **Neurotrophins**: These are proteins that support the survival and function of neurons. They are essential for neuronal development, plasticity, and repair.\\n\\n4. **Axon regeneration**: After a nerve injury, the ability of axons (the long projections of neurons that conduct electrical impulses) to regrow and reconnect with their targets is critical for functional recovery.\\n\\nGiven that Arthur W. English, a professor at Emory University, is investigating these interactions, his research likely provides valuable insights into how these factors协同工作以促进损伤后的轴突再生。\\n\\n首先，神经活动在轴突再生中的作用是什么？神经活动可以影响神经元的存活和突触的可塑性。在损伤后，残余的神经活动可能触发再生过程。例如，通过增强神经元的内在再生能力或通过释放促进再生的信号分子。\\n\\n其次，性腺激素如何参与轴突再生？研究表明，性腺激素如雌激素和睾酮对神经系统有深远的影响。它们可以调节神经发生、神经保护和修复过程。例如，雌激素已被证明可以促进神经元的存活和突触的可塑性，而睾酮可能影响神经元的生长和分化。\\n\\n再者，神经营养因子在轴突再生中扮演什么角色？神经营养因子，如脑源性神经营养因子（BDNF）和神经生长因子（NGF），是已知的促进神经元生存和再生的关键分子。它们可以刺激轴突生长、增强突触连接，并在损伤后促进神经修复。\\n\\n现在，需要探讨这些因素之间的相互作用。可能的情况是，神经活动触发性腺激素的释放，进而调节神经营养因子的表达，从而影响轴突再生。或者，性腺激素可以直接影响神经活动，进而影响神经营养因子的水平和轴突再生的能力。\\n\\n为了更好地理解这一点，可以参考相关的研究文献。例如，有些研究可能已经探讨了在损伤后，性腺激素水平的变化如何影响神经活动和神经营养因子的表达，以及这些变化如何影响轴突再生的效果。\\n\\n此外，还需要考虑性别差异在这一过程中的作用，因为男性和女性的性腺激素水平不同，可能会影响轴突再生的效率。\\n\\n最后，基于对这些相互作用的理解，可以探讨潜在的治疗应用。例如，通过药物调节性腺激素水平，或者直接施用神经营养因子，以促进轴突再生和改善功能恢复。\\n\\n## Summarization\\n\\nIn summary, the interactions between neuronal activity, gonadal hormones, and neurotrophins play a significant role in axon regeneration post-injury. Neuronal activity can trigger regenerative processes and release factors that promote regeneration. Gonadal hormones, such as estrogen and testosterone, influence neural survival, plasticity, and repair, potentially modulating the expression of neurotrophins. Neurotrophins themselves are crucial for neuron survival and axon growth. Understanding these interplays could lead to therapeutic strategies involving hormone therapy or neurotrophin administration to enhance functional recovery after nerve injuries.\",\n",
       "   'role': 'assistant'}],\n",
       " 'rejected': [{'content': \"The interactions between neuronal activity, gonadal hormones, and neurotrophins play a crucial role in axon regeneration post-injury. Neuronal activity, which is the electrical and chemical signaling within neurons, can stimulate the production of neurotrophins—growth factors that promote neuronal survival and axon growth. Gonadal hormones, such as testosterone and estrogen, also influence axon regeneration by modulating the expression of genes involved in axon growth and by enhancing the availability of neurotrophins. For example, testosterone has been shown to increase the expression of brain-derived neurotrophic factor (BDNF), which is essential for axon elongation and synaptic plasticity. The combined effects of these factors can significantly enhance the regenerative capacity of injured neurons. Therapeutically, this research suggests that interventions aimed at modulating neuronal activity, optimizing hormone levels, and supplementing with neurotrophins could be effective in promoting axon regeneration and functional recovery after nerve injury. Dr. Arthur W. English's work at Emory University provides a comprehensive approach to understanding these interactions and developing targeted therapies for nerve injury recovery.\",\n",
       "   'role': 'assistant'}]}"
      ]
     },
     "execution_count": 24,
     "metadata": {},
     "output_type": "execute_result"
    }
   ],
   "source": [
    "converted_data[0]"
   ]
  },
  {
   "cell_type": "code",
   "execution_count": 13,
   "id": "87a4b459",
   "metadata": {},
   "outputs": [
    {
     "data": {
      "text/plain": [
       "Dataset({\n",
       "    features: ['messages'],\n",
       "    num_rows: 12800\n",
       "})"
      ]
     },
     "execution_count": 13,
     "metadata": {},
     "output_type": "execute_result"
    }
   ],
   "source": [
    "converted_data = converted_data.select(range(12800))\n",
    "converted_data"
   ]
  },
  {
   "cell_type": "code",
   "execution_count": 25,
   "id": "06a8ce30",
   "metadata": {},
   "outputs": [
    {
     "name": "stderr",
     "output_type": "stream",
     "text": [
      "Saving the dataset (1/1 shards): 100%|██████████| 32919/32919 [00:00<00:00, 107245.78 examples/s]\n"
     ]
    }
   ],
   "source": [
    "converted_data.save_to_disk(\"/inspire/hdd/ws-ba572160-47f8-4ca1-984e-d6bcdeb95dbb/a100-maybe/yuhongzhou/rebuttal/dpo2\")"
   ]
  },
  {
   "cell_type": "code",
   "execution_count": 33,
   "id": "801a3d4a",
   "metadata": {},
   "outputs": [],
   "source": [
    "from transformers import AutoTokenizer, AutoModelForCausalLM\n",
    "tokenizer = AutoTokenizer.from_pretrained(\"/inspire/hdd/ws-ba572160-47f8-4ca1-984e-d6bcdeb95dbb/a100-maybe/yuhongzhou/rebuttal/llama8b\")"
   ]
  },
  {
   "cell_type": "code",
   "execution_count": 27,
   "id": "8cfe5b71",
   "metadata": {},
   "outputs": [
    {
     "data": {
      "text/plain": [
       "'<|eot_id|>'"
      ]
     },
     "execution_count": 27,
     "metadata": {},
     "output_type": "execute_result"
    }
   ],
   "source": [
    "tokenizer.pad_token"
   ]
  },
  {
   "cell_type": "code",
   "execution_count": 21,
   "id": "efee5065",
   "metadata": {},
   "outputs": [
    {
     "data": {
      "text/plain": [
       "('/inspire/hdd/ws-ba572160-47f8-4ca1-984e-d6bcdeb95dbb/a100-maybe/yuhongzhou/rebuttal/llama8b/tokenizer_config.json',\n",
       " '/inspire/hdd/ws-ba572160-47f8-4ca1-984e-d6bcdeb95dbb/a100-maybe/yuhongzhou/rebuttal/llama8b/special_tokens_map.json',\n",
       " '/inspire/hdd/ws-ba572160-47f8-4ca1-984e-d6bcdeb95dbb/a100-maybe/yuhongzhou/rebuttal/llama8b/tokenizer.json')"
      ]
     },
     "execution_count": 21,
     "metadata": {},
     "output_type": "execute_result"
    }
   ],
   "source": [
    "tokenizer.save_pretrained(\"/inspire/hdd/ws-ba572160-47f8-4ca1-984e-d6bcdeb95dbb/a100-maybe/yuhongzhou/rebuttal/llama8b\")"
   ]
  },
  {
   "cell_type": "code",
   "execution_count": 81,
   "id": "329723c3",
   "metadata": {},
   "outputs": [
    {
     "name": "stderr",
     "output_type": "stream",
     "text": [
      "Generating train split: 158629 examples [00:01, 153506.20 examples/s]\n"
     ]
    }
   ],
   "source": [
    "from datasets import load_dataset\n",
    "converted_data = load_dataset(\"json\", data_files=\"/inspire/hdd/ws-ba572160-47f8-4ca1-984e-d6bcdeb95dbb/a100-maybe/yuhongzhou/rebuttal/OtherDepartments.jsonl\", split=\"train\")"
   ]
  },
  {
   "cell_type": "code",
   "execution_count": 82,
   "id": "84cc25bf",
   "metadata": {},
   "outputs": [
    {
     "data": {
      "text/plain": [
       "{'text': 'A Comprehensive Guide: How to Find a Therapist Near You. Cbt Therapist Near Me Nhs…\\nSeeking treatment is a bold step toward much better mental health and wellness. Whether you’re having problem with stress and anxiety, anxiety, or any other mental concern, discovering the ideal therapist can make a substantial distinction in your healing journey. In this post, we will check out the procedure of finding a therapist near you, go over various kinds of therapists readily available, and offer recommendations for various psychological disorders.\\nTypes of Therapists: Cbt Therapist Near Me Nhs\\nPsychologists: These experts hold a postgraduate degree in psychology and focus on detecting and treating psychological health disorders. They frequently use evidence-based treatments such as cognitive-behavioral treatment (CBT) and psychodynamic therapy.\\nPsychiatrists: Psychiatrists are medical physicians who focus on psychological health. They can diagnose mental illnesses, recommend medications, and supply treatment. Their treatment technique typically involves a combination of therapy and medication management.\\nLicensed Clinical Social Employees (LCSWs): LCSWs are trained in psychotherapy and social work. They assist people cope with various concerns, such as relationship problems, substance abuse, and life shifts. LCSWs frequently use methods like cognitive-behavioral treatment, family therapy, and solution-focused treatment.\\nLicensed Expert Therapists (LPCs): LPCs supply treatment to couples, households, and individuals. They attend to a vast array of mental health issues, including stress, trauma, and grief. LPCs may specialize in specific healing approaches like mindfulness-based therapy or art treatment.\\nMarriage and Household Therapists (MFTs): MFTs focus on relationships and household characteristics. They assist households and couples improve interaction, willpower disputes, and browse major life shifts. MFTs often use techniques such as household systems treatment and mentally focused treatment.\\nCommon Reasons for Looking For Therapy:\\nAnxiety Conditions: Anxiety conditions include excessive worry, worry, and panic. Suggested therapist: Psychologist, Psychiatrist.\\nSignificant Depressive Disorder: Characterized by relentless feelings of unhappiness, hopelessness, and loss of interest. Suggested therapist: Psychologist, Psychiatrist.\\nPost-Traumatic Stress Disorder (PTSD): Arises from experiencing or seeing a traumatic event. Suggested therapist: Psychologist, LCSW.\\nCompound Use Disorders: Involves excessive use of substances and dependence. Recommended therapist: LCSW, LPC.\\nRelationship Problems: Problems in romantic or family relationships. Advised therapist: MFT, LPC.\\nTherapist: Invite! I’m Dr. Smith, your therapist.\\nClient: Thank you, Dr. Smith. I’m a bit worried but also alleviated to finally be here. It’s my first therapy session, and I’m not totally sure what to expect.\\nTherapist: It’s completely typical to feel nervous, particularly throughout your first session. I’m glad you took this step towards seeking support. Therapy is a private and safe space where we can explore your issues and work towards your wellness. Exists anything particular you wish to go over or any particular reason you decided to look for therapy?\\nClient: Well, I’ve been feeling overwhelmed recently. I have actually been having problem with anxiety and discovering it difficult to handle my tension. It’s impacting my daily life, relationships, and total happiness. I simply need some assistance and assistance in handling these emotions.\\nTherapist: I understand. Anxiety and stress can be challenging to cope with, but with therapy, we can interact to develop reliable strategies for handling them. Can you tell me a bit more about what activates your anxiety and when you first began observing these signs?\\nPatient: Sure. I think my stress and anxiety is activated by work-related tension, social circumstances, and even basic everyday tasks. It seems to have begun a couple of years ago when I experienced a major life change, and it has been gradually worsening ever since.\\nTherapist: Thank you for sharing that. It’s important to recognize those triggers and understand the origin of your anxiety. Throughout our sessions, we’ll check out different therapeutic strategies, such as cognitive-behavioral therapy, to help you gain control over your stress and anxiety and reduce its impact on your life. You discussed job-related tension; is there any particular element of your task that adds to your anxiety?\\nClient: Yes, due dates and high-pressure circumstances at work tend to trigger my anxiety the most. I frequently discover myself overwhelmed, continuously worrying about meeting expectations and fearing failure.\\nTherapist: I see. That’s a typical issue, and we can absolutely address it. Together, we’ll deal with developing coping systems, tension management strategies, and methods to navigate those job-related pressures more effectively. Our goal is to help you find a sense of balance and gain back control over your stress and anxiety.\\nPatient: That sounds like precisely what I require. I’m ready to put in the work and make positive changes. I value your guidance and assistance throughout this procedure.\\nTherapist: I’m here to support you every action of the way. Remember, therapy is a collective journey, and your active participation is essential. Our sessions will be a safe area for you to reveal yourself honestly and truthfully. Together, we’ll explore your ideas, experiences, and emotions to promote development and well-being.\\nWhen it comes to the room’s look, therapists typically strive to produce a calm and welcoming environment. The space may feature comfortable seating, soft lighting, and possibly some relaxing elements like plants or artwork to develop a relaxing environment. The therapist’s office is designed to offer a sense of privacy and safety for the patient to freely discuss their emotions and concerns.\\n10-Step Guide to Discovering a Therapist in Your Area:\\nDetermine Your Needs: Examine your psychological health concerns, preferred treatment type, and any particular requirements you may have.\\nAsk for Suggestions: Look for recommendations from trusted good friends, household, or health care experts who have experience with therapy.\\nContact Insurance Coverage: Contact your insurance company to understand the coverage for treatment and obtain a list of in-network therapists.\\nOnline Directories: Make use of online directory sites like Psychology Today, GoodTherapy, or TherapyTribe to search for therapists in your area.\\nResearch Therapist Qualifications: Verify the qualifications, certifications, and licenses of prospective therapists. Search for specialized training in your location of concern.\\nRead Testimonials and reviews: Check out online reviews and reviews to get insights into others’ experiences with the therapists you are considering.\\nContact Therapists: Call or email therapists to inquire about their schedule, costs, and therapy approach. If they are a good fit for you, ask questions to determine.\\nInitial Assessment: Arrange an initial consultation session with a couple of therapists to evaluate their compatibility and discuss your needs.\\nConsider Logistics: Take into consideration factors such as place, schedule, session period, and fees when choosing a therapist.\\nTrust Your Instincts: Ultimately, trust your suspicion and pick a therapist with whom you feel comfy, comprehended, and supported.\\nmount of anxiety however also within the very first couple of minutes or a minimum of by the end of the session feeling a lot better like I just feel more comfortable now that we started and truly thankful that they came so I encourage you not to let anxiety stop you although it also makes good sense that we ‘d be a little anxious you know possibly it’s vulnerable in a manner we’re not utilized to to share ideas with a complete stranger or we think that treatment implies that we have some problem or problem however really therapy doesn’t imply that you’re damaged or insane or have some huge concern anyone can benefit from therapy now the therapists job is to also assist you find out what your objective will be the therapist is highly likely to ask you in the first session what brought you into counseling to talk with\\nthem what would you like to concentrate on or what would the objective will be of the work and they might even ask like how will you know when you are have fulfilled your objective or a finished with treatment what would you like that outcome to appear like so those are concerns that you you know will be most likely asked and if you want you can try to prepare a little beforehand by doing some journaling or simply showing however if you aren’t sure how to answer those concerns then the therapist can assist you in any case during the very first session you’ll probably be reflecting on just what development area you want to address whether that’s increased self empathy or capability to manage your anxiety or connect better with other people and likewise bear in mind that that very first session is an interview both ways to see if it’s a great fit so do not hesitate to ask your therapist concerns that may assist you feel if they are the therapist',\n",
       " 'instruction': 'How can the initial therapy session help both the therapist and the client in establishing a therapeutic relationship, and what are some common topics or questions that might be discussed during this first meeting?',\n",
       " 'complexity': 5,\n",
       " 'quality': 8,\n",
       " 'language': 'en',\n",
       " 'response': \"The first therapy session is pivotal in building a strong therapeutic alliance between the therapist and the client. For the therapist, it serves as a time to gather essential information about the client, including their personal history, current challenges, and specific issues they are facing. This information helps the therapist tailor their approach and choose the most effective therapeutic techniques. For the client, the initial session provides a safe space to express their concerns and begin the healing process. Common topics discussed might include the client's background, recent life events, and the specific reasons they sought therapy. The therapist may ask about the client’s symptoms, such as anxiety or depression, and explore the triggers and patterns associated with these issues. They might also discuss the client's goals for therapy and what they hope to achieve. This session is also an opportunity for both the therapist and the client to assess the fit and ensure that they are comfortable working together, fostering a sense of trust and collaboration from the start.\",\n",
       " 'instruction_type': 'common'}"
      ]
     },
     "execution_count": 82,
     "metadata": {},
     "output_type": "execute_result"
    }
   ],
   "source": [
    "converted_data[0]"
   ]
  },
  {
   "cell_type": "code",
   "execution_count": 83,
   "id": "00033a5c",
   "metadata": {},
   "outputs": [
    {
     "name": "stderr",
     "output_type": "stream",
     "text": [
      "100%|██████████| 158629/158629 [00:07<00:00, 20447.74it/s]"
     ]
    },
    {
     "name": "stdout",
     "output_type": "stream",
     "text": [
      "8.070668036739814\n",
      "6.157808471338784\n"
     ]
    },
    {
     "name": "stderr",
     "output_type": "stream",
     "text": [
      "\n"
     ]
    }
   ],
   "source": [
    "from tqdm import tqdm\n",
    "\n",
    "quality = 0\n",
    "complexity = 0\n",
    "for data in tqdm(converted_data):\n",
    "    quality += data[\"quality\"]\n",
    "    complexity += data[\"complexity\"]\n",
    "print(quality/len(converted_data))\n",
    "print(complexity/len(converted_data))"
   ]
  },
  {
   "cell_type": "code",
   "execution_count": null,
   "id": "2cedaefc",
   "metadata": {},
   "outputs": [
    {
     "name": "stderr",
     "output_type": "stream",
     "text": [
      "100%|██████████| 12800/12800 [00:01<00:00, 11685.10it/s]\n"
     ]
    },
    {
     "data": {
      "text/plain": [
       "12800"
      ]
     },
     "execution_count": 29,
     "metadata": {},
     "output_type": "execute_result"
    }
   ],
   "source": [
    "# SFT\n",
    "from tqdm import tqdm\n",
    "messages = []\n",
    "for example in tqdm(converted_data):\n",
    "    messages.append(tokenizer.apply_chat_template(example[\"messages\"], tokenize=False))\n",
    "len(messages)"
   ]
  },
  {
   "cell_type": "code",
   "execution_count": 37,
   "id": "7dd455e1",
   "metadata": {},
   "outputs": [
    {
     "name": "stderr",
     "output_type": "stream",
     "text": [
      "100%|██████████| 32919/32919 [00:05<00:00, 5557.42it/s]\n"
     ]
    },
    {
     "data": {
      "text/plain": [
       "32919"
      ]
     },
     "execution_count": 37,
     "metadata": {},
     "output_type": "execute_result"
    }
   ],
   "source": [
    "# DPO\n",
    "from tqdm import tqdm\n",
    "\n",
    "def AddChat(example):\n",
    "    if \"prompt\" in example:\n",
    "            last_role = example[\"prompt\"][-1][\"role\"]\n",
    "            if last_role == \"user\":\n",
    "                add_generation_prompt = True\n",
    "                continue_final_message = False\n",
    "            elif last_role == \"assistant\":\n",
    "                add_generation_prompt = False\n",
    "                continue_final_message = True\n",
    "            else:\n",
    "                raise ValueError(f\"Invalid role in the last message: {last_role}\")\n",
    "            prompt = tokenizer.apply_chat_template(\n",
    "                example[\"prompt\"],\n",
    "                continue_final_message=continue_final_message,\n",
    "                tokenize=False,\n",
    "                add_generation_prompt=add_generation_prompt,\n",
    "            )\n",
    "\n",
    "    # Apply the chat template to the entire prompt + completion\n",
    "    if \"prompt\" in example:  # explicit prompt and prompt-completion case\n",
    "        if \"chosen\" in example:\n",
    "            prompt_chosen = tokenizer.apply_chat_template(\n",
    "                example[\"prompt\"] + example[\"chosen\"], tokenize=False\n",
    "            )\n",
    "            chosen = prompt_chosen[len(prompt) :]\n",
    "        if \"rejected\" in example and \"prompt\" in example:  # explicit prompt\n",
    "            prompt_rejected = tokenizer.apply_chat_template(\n",
    "                example[\"prompt\"] + example[\"rejected\"], tokenize=False\n",
    "            )\n",
    "            rejected = prompt_rejected[len(prompt) :]\n",
    "        if \"completion\" in example:\n",
    "            prompt_completion = tokenizer.apply_chat_template(\n",
    "                example[\"prompt\"] + example[\"completion\"], tokenize=False\n",
    "            )\n",
    "            completion = prompt_completion[len(prompt) :]\n",
    "    else:  # implicit prompt case\n",
    "        if \"chosen\" in example:\n",
    "            chosen = tokenizer.apply_chat_template(example[\"chosen\"], tokenize=False)\n",
    "        if \"rejected\" in example:\n",
    "            rejected = tokenizer.apply_chat_template(example[\"rejected\"], tokenize=False)\n",
    "\n",
    "    # Ensure that the prompt is the initial part of the prompt-completion string\n",
    "    if \"prompt\" in example:\n",
    "        error_message = (\n",
    "            \"The chat template applied to the prompt + completion does not start with the chat template applied to \"\n",
    "            \"the prompt alone. This can indicate that the chat template is not supported by TRL.\"\n",
    "            \"\\n**Prompt**:\\n{}\\n\\n**Prompt + Completion**:\\n{}\"\n",
    "        )\n",
    "        if \"chosen\" in example and not prompt_chosen.startswith(prompt):\n",
    "            raise ValueError(error_message.format(prompt, prompt_chosen))\n",
    "        if \"rejected\" in example and not prompt_rejected.startswith(prompt):\n",
    "            raise ValueError(error_message.format(prompt, prompt_rejected))\n",
    "        if \"completion\" in example and not prompt_completion.startswith(prompt):\n",
    "            raise ValueError(error_message.format(prompt, prompt_completion))\n",
    "\n",
    "    # Extract the completion by removing the prompt part from the prompt-completion string\n",
    "    output = {}\n",
    "    if \"prompt\" in example:\n",
    "        output[\"prompt\"] = prompt\n",
    "    if \"chosen\" in example:\n",
    "        output[\"chosen\"] = chosen\n",
    "    if \"rejected\" in example:\n",
    "        output[\"rejected\"] = rejected\n",
    "    if \"completion\" in example:\n",
    "        output[\"completion\"] = completion\n",
    "    if \"label\" in example:\n",
    "        output[\"label\"] = example[\"label\"]\n",
    "    return output\n",
    "\n",
    "messages = []\n",
    "for example in tqdm(converted_data):\n",
    "    messages.append(AddChat(example))\n",
    "len(messages)"
   ]
  },
  {
   "cell_type": "code",
   "execution_count": 38,
   "id": "dc476ae9",
   "metadata": {},
   "outputs": [
    {
     "data": {
      "text/plain": [
       "{'prompt': '<|begin_of_text|><|start_header_id|>system<|end_header_id|>\\n\\nCutting Knowledge Date: December 2023\\nToday Date: 26 Jul 2024\\n\\nYou are a helpful professional doctor. You need to generate an answer based on the given problem and thoroughly explore the problem through a systematic and long-term thinking process to provide a final and accurate solution. This requires a comprehensive cycle of analysis, summary, exploration, re-evaluation, reflection, backtracking and iteration to form a thoughtful thinking process. Use the background information provided in the text to assist in formulating the answer. Follow these answer guidelines:\\n1. Please structure your response into two main sections: **Thought** and **Summarization**.\\n2. During the **Thought** phase, think step by step based on the given text content. If the text content is used, it must be expressed.\\n3. During the **Summarization** phase, based on the thinking process in the thinking phase, give the final answer to the question.\\nHere is the question:<|eot_id|><|start_header_id|>user<|end_header_id|>\\n\\nHow do the interactions between neuronal activity, gonadal hormones, and neurotrophins influence axon regeneration post-injury, and what are the potential therapeutic implications of this research? Please think step by step.<|eot_id|><|start_header_id|>assistant<|end_header_id|>\\n\\n',\n",
       " 'chosen': \"## Thought\\n\\nTo answer this question, I need to understand how neuronal activity, gonadal hormones, and neurotrophins interact to influence axon regeneration after injury. Then, I should consider the potential therapeutic implications of this research.\\n\\nFirst, let's break down the key terms:\\n\\n1. **Neuronal activity**: This refers to the electrical and chemical signaling that occurs within and between nerve cells. It's fundamental for transmitting information in the nervous system.\\n\\n2. **Gonadal hormones**: These are hormones produced by the gonads (testes in males and ovaries in females), such as estrogen, testosterone, and progesterone. They play crucial roles in sexual development and reproduction but also have effects on other systems, including the nervous system.\\n\\n3. **Neurotrophins**: These are proteins that support the survival and function of neurons. They are essential for neuronal development, plasticity, and repair.\\n\\n4. **Axon regeneration**: After a nerve injury, the ability of axons (the long projections of neurons that conduct electrical impulses) to regrow and reconnect with their targets is critical for functional recovery.\\n\\nGiven that Arthur W. English, a professor at Emory University, is investigating these interactions, his research likely provides valuable insights into how these factors协同工作以促进损伤后的轴突再生。\\n\\n首先，神经活动在轴突再生中的作用是什么？神经活动可以影响神经元的存活和突触的可塑性。在损伤后，残余的神经活动可能触发再生过程。例如，通过增强神经元的内在再生能力或通过释放促进再生的信号分子。\\n\\n其次，性腺激素如何参与轴突再生？研究表明，性腺激素如雌激素和睾酮对神经系统有深远的影响。它们可以调节神经发生、神经保护和修复过程。例如，雌激素已被证明可以促进神经元的存活和突触的可塑性，而睾酮可能影响神经元的生长和分化。\\n\\n再者，神经营养因子在轴突再生中扮演什么角色？神经营养因子，如脑源性神经营养因子（BDNF）和神经生长因子（NGF），是已知的促进神经元生存和再生的关键分子。它们可以刺激轴突生长、增强突触连接，并在损伤后促进神经修复。\\n\\n现在，需要探讨这些因素之间的相互作用。可能的情况是，神经活动触发性腺激素的释放，进而调节神经营养因子的表达，从而影响轴突再生。或者，性腺激素可以直接影响神经活动，进而影响神经营养因子的水平和轴突再生的能力。\\n\\n为了更好地理解这一点，可以参考相关的研究文献。例如，有些研究可能已经探讨了在损伤后，性腺激素水平的变化如何影响神经活动和神经营养因子的表达，以及这些变化如何影响轴突再生的效果。\\n\\n此外，还需要考虑性别差异在这一过程中的作用，因为男性和女性的性腺激素水平不同，可能会影响轴突再生的效率。\\n\\n最后，基于对这些相互作用的理解，可以探讨潜在的治疗应用。例如，通过药物调节性腺激素水平，或者直接施用神经营养因子，以促进轴突再生和改善功能恢复。\\n\\n## Summarization\\n\\nIn summary, the interactions between neuronal activity, gonadal hormones, and neurotrophins play a significant role in axon regeneration post-injury. Neuronal activity can trigger regenerative processes and release factors that promote regeneration. Gonadal hormones, such as estrogen and testosterone, influence neural survival, plasticity, and repair, potentially modulating the expression of neurotrophins. Neurotrophins themselves are crucial for neuron survival and axon growth. Understanding these interplays could lead to therapeutic strategies involving hormone therapy or neurotrophin administration to enhance functional recovery after nerve injuries.<|eot_id|>\",\n",
       " 'rejected': \"The interactions between neuronal activity, gonadal hormones, and neurotrophins play a crucial role in axon regeneration post-injury. Neuronal activity, which is the electrical and chemical signaling within neurons, can stimulate the production of neurotrophins—growth factors that promote neuronal survival and axon growth. Gonadal hormones, such as testosterone and estrogen, also influence axon regeneration by modulating the expression of genes involved in axon growth and by enhancing the availability of neurotrophins. For example, testosterone has been shown to increase the expression of brain-derived neurotrophic factor (BDNF), which is essential for axon elongation and synaptic plasticity. The combined effects of these factors can significantly enhance the regenerative capacity of injured neurons. Therapeutically, this research suggests that interventions aimed at modulating neuronal activity, optimizing hormone levels, and supplementing with neurotrophins could be effective in promoting axon regeneration and functional recovery after nerve injury. Dr. Arthur W. English's work at Emory University provides a comprehensive approach to understanding these interactions and developing targeted therapies for nerve injury recovery.<|eot_id|>\"}"
      ]
     },
     "execution_count": 38,
     "metadata": {},
     "output_type": "execute_result"
    }
   ],
   "source": [
    "messages[0]"
   ]
  },
  {
   "cell_type": "markdown",
   "id": "bcd2de37",
   "metadata": {},
   "source": [
    "- SFT  max_length -> 6064\n",
    "- DPO  prompt  max_length -> 281\n",
    "- DPO  chosen  max_length -> 5826\n",
    "- 取 6144"
   ]
  },
  {
   "cell_type": "code",
   "execution_count": 40,
   "id": "b15b5c87",
   "metadata": {},
   "outputs": [
    {
     "name": "stderr",
     "output_type": "stream",
     "text": [
      "100%|██████████| 32919/32919 [01:22<00:00, 397.22it/s]"
     ]
    },
    {
     "name": "stdout",
     "output_type": "stream",
     "text": [
      "最大编码长度为: 5826\n"
     ]
    },
    {
     "name": "stderr",
     "output_type": "stream",
     "text": [
      "\n"
     ]
    }
   ],
   "source": [
    "from transformers import AutoTokenizer\n",
    "\n",
    "tokenizer = AutoTokenizer.from_pretrained(\"/inspire/hdd/ws-ba572160-47f8-4ca1-984e-d6bcdeb95dbb/a100-maybe/yuhongzhou/rebuttal/llama8b\")\n",
    "\n",
    "# 编码并获取每个文本的 token 长度\n",
    "lengths = [len(tokenizer.encode(text['chosen'], add_special_tokens=True)) for text in tqdm(messages)]\n",
    "\n",
    "# 计算最大长度\n",
    "max_length = max(lengths)\n",
    "\n",
    "print(f\"最大编码长度为: {max_length}\")"
   ]
  },
  {
   "cell_type": "code",
   "execution_count": 50,
   "id": "94b6354e",
   "metadata": {},
   "outputs": [
    {
     "data": {
      "text/plain": [
       "8"
      ]
     },
     "execution_count": 50,
     "metadata": {},
     "output_type": "execute_result"
    }
   ],
   "source": [
    "count = 0\n",
    "for length in lengths:\n",
    "    if length > 1024:\n",
    "        count += 1\n",
    "count"
   ]
  }
 ],
 "metadata": {
  "kernelspec": {
   "display_name": "infer",
   "language": "python",
   "name": "python3"
  },
  "language_info": {
   "codemirror_mode": {
    "name": "ipython",
    "version": 3
   },
   "file_extension": ".py",
   "mimetype": "text/x-python",
   "name": "python",
   "nbconvert_exporter": "python",
   "pygments_lexer": "ipython3",
   "version": "3.12.9"
  }
 },
 "nbformat": 4,
 "nbformat_minor": 5
}
