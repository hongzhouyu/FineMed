{
 "cells": [
  {
   "cell_type": "markdown",
   "metadata": {},
   "source": [
    "### InsGen"
   ]
  },
  {
   "cell_type": "code",
   "execution_count": 1,
   "metadata": {},
   "outputs": [
    {
     "name": "stderr",
     "output_type": "stream",
     "text": [
      "/home/ma-user/work/code_dev/miniconda3/envs/sft/lib/python3.9/site-packages/tqdm/auto.py:21: TqdmWarning: IProgress not found. Please update jupyter and ipywidgets. See https://ipywidgets.readthedocs.io/en/stable/user_install.html\n",
      "  from .autonotebook import tqdm as notebook_tqdm\n"
     ]
    },
    {
     "name": "stdout",
     "output_type": "stream",
     "text": [
      "210000\n"
     ]
    }
   ],
   "source": [
    "import json\n",
    "from datasets import Dataset\n",
    "import numpy as np\n",
    "\n",
    "# 读取 JSON 文件\n",
    "# InsGen\n",
    "with open('/home/ma-user/work/code_dev/cth/data/output_list/ins_gen_output_list.json', 'r') as f:\n",
    "    output_list = json.load(f)\n",
    "\n",
    "print(len(output_list))"
   ]
  },
  {
   "cell_type": "code",
   "execution_count": 2,
   "metadata": {},
   "outputs": [
    {
     "data": {
      "text/plain": [
       "'{\\n    \"question1\": \"What factors contribute to the low efficiency of cationic lipid-mediated gene transduction in polarized and differentiated airway epithelial cells, and how might these barriers be overcome to improve gene therapy for airway diseases such as cystic fibrosis?\",\\n    \"question2\": \"How do the results of gene transduction using GL-67:pDNA complexes in the nasal epithelium of cystic fibrosis transgenic mice compare to those observed in the lungs, and what implications do these differences have for the development of gene therapy strategies for cystic fibrosis?\"\\n}'"
      ]
     },
     "execution_count": 2,
     "metadata": {},
     "output_type": "execute_result"
    }
   ],
   "source": [
    "output_list[0]"
   ]
  },
  {
   "cell_type": "code",
   "execution_count": 4,
   "metadata": {},
   "outputs": [
    {
     "name": "stdout",
     "output_type": "stream",
     "text": [
      "存在解析失败\n"
     ]
    },
    {
     "data": {
      "text/plain": [
       "29"
      ]
     },
     "execution_count": 4,
     "metadata": {},
     "output_type": "execute_result"
    }
   ],
   "source": [
    "# 初始化存储成功解析的 JSON 数据和成功序号的列表\n",
    "data = []\n",
    "successful_indexes = []\n",
    "flag = 0\n",
    "\n",
    "# 使用列表推导解析 JSON，跳过有错误的项\n",
    "for idx, item in enumerate(output_list):\n",
    "    try:\n",
    "        # 尝试解析 JSON\n",
    "        parsed_item = json.loads(item)\n",
    "        data.append(parsed_item)\n",
    "        successful_indexes.append(idx)  # 保存成功解析的序号\n",
    "    except json.JSONDecodeError:\n",
    "        # 如果解析失败，打印错误信息并跳过当前项\n",
    "        # print(item)\n",
    "        flag = 1\n",
    "        continue\n",
    "\n",
    "if flag:\n",
    "    print(\"存在解析失败\")\n",
    "len(output_list) - len(successful_indexes)"
   ]
  },
  {
   "cell_type": "code",
   "execution_count": 5,
   "metadata": {},
   "outputs": [
    {
     "name": "stdout",
     "output_type": "stream",
     "text": [
      "Dataset({\n",
      "    features: ['question1', 'question2'],\n",
      "    num_rows: 209971\n",
      "})\n",
      "Dataset({\n",
      "    features: ['question'],\n",
      "    num_rows: 209971\n",
      "})\n",
      "Dataset({\n",
      "    features: ['question'],\n",
      "    num_rows: 209971\n",
      "})\n"
     ]
    },
    {
     "name": "stderr",
     "output_type": "stream",
     "text": [
      "Saving the dataset (1/1 shards): 100%|██████████| 209971/209971 [00:00<00:00, 471003.93 examples/s]\n",
      "Saving the dataset (1/1 shards): 100%|██████████| 209971/209971 [00:00<00:00, 441929.84 examples/s]\n"
     ]
    }
   ],
   "source": [
    "# 使用 datasets 库创建数据集\n",
    "dataset = Dataset.from_list(data)\n",
    "# 输出数据集内容\n",
    "print(dataset)\n",
    "\n",
    "question1 = dataset[\"question1\"]\n",
    "question1_dict = {\"question\": question1}\n",
    "question1_set = Dataset.from_dict(question1_dict)\n",
    "print(question1_set)\n",
    "\n",
    "question2 = dataset[\"question2\"]\n",
    "question2_dict = {\"question\": question2}\n",
    "question2_set = Dataset.from_dict(question2_dict)\n",
    "print(question2_set)\n",
    "\n",
    "question1_set.save_to_disk(\"/home/ma-user/work/code_dev/cth/data/instructions/gen_ins/ins1\")\n",
    "question2_set.save_to_disk(\"/home/ma-user/work/code_dev/cth/data/instructions/gen_ins/ins2\")\n",
    "\n",
    "np.save('/home/ma-user/work/code_dev/cth/data/instructions/gen_ins/successful_indexes.npy', successful_indexes)"
   ]
  },
  {
   "cell_type": "code",
   "execution_count": 6,
   "metadata": {},
   "outputs": [
    {
     "data": {
      "text/plain": [
       "'How do the results of gene transduction using GL-67:pDNA complexes in the nasal epithelium of cystic fibrosis transgenic mice compare to those observed in the lungs, and what implications do these differences have for the development of gene therapy strategies for cystic fibrosis?'"
      ]
     },
     "execution_count": 6,
     "metadata": {},
     "output_type": "execute_result"
    }
   ],
   "source": [
    "question2[0]"
   ]
  },
  {
   "cell_type": "markdown",
   "metadata": {},
   "source": [
    "### Scoring"
   ]
  },
  {
   "cell_type": "code",
   "execution_count": 11,
   "metadata": {},
   "outputs": [
    {
     "name": "stdout",
     "output_type": "stream",
     "text": [
      "5000\n"
     ]
    }
   ],
   "source": [
    "import json\n",
    "from datasets import Dataset\n",
    "import numpy as np\n",
    "\n",
    "# 读取 JSON 文件\n",
    "# Scoring\n",
    "# with open('/home/ma-user/work/code_dev/cth/data/output_list/scoring_1.json', 'r') as f:\n",
    "#     output_list = json.load(f)\n",
    "with open('/home/ubuntu/disk/output/huatuo.json', 'r') as f:\n",
    "    output_list = json.load(f)\n",
    "\n",
    "print(len(output_list))"
   ]
  },
  {
   "cell_type": "code",
   "execution_count": 12,
   "metadata": {},
   "outputs": [
    {
     "data": {
      "text/plain": [
       "0"
      ]
     },
     "execution_count": 12,
     "metadata": {},
     "output_type": "execute_result"
    }
   ],
   "source": [
    "# 初始化存储成功解析的 JSON 数据和成功序号的列表\n",
    "data = []\n",
    "successful_indexes = []\n",
    "flag = 0\n",
    "\n",
    "# 使用列表推导解析 JSON，跳过有错误的项\n",
    "for idx, item in enumerate(output_list):\n",
    "    try:\n",
    "        # 尝试解析 JSON\n",
    "        parsed_item = json.loads(item)\n",
    "        data.append(parsed_item)\n",
    "        successful_indexes.append(idx)  # 保存成功解析的序号\n",
    "    except json.JSONDecodeError:\n",
    "        # 如果解析失败，打印错误信息并跳过当前项\n",
    "        # print(item)\n",
    "        flag = 1\n",
    "        continue\n",
    "\n",
    "if flag:\n",
    "    print(\"存在解析失败\")\n",
    "len(output_list) - len(successful_indexes)"
   ]
  },
  {
   "cell_type": "code",
   "execution_count": 13,
   "metadata": {},
   "outputs": [
    {
     "data": {
      "text/plain": [
       "{'quality': 7,\n",
       " 'difficulty': 6,\n",
       " 'relevance_to_medicine': 5,\n",
       " 'mention_specific_details': 'True'}"
      ]
     },
     "execution_count": 13,
     "metadata": {},
     "output_type": "execute_result"
    }
   ],
   "source": [
    "data[7]"
   ]
  },
  {
   "cell_type": "code",
   "execution_count": 13,
   "metadata": {},
   "outputs": [],
   "source": [
    "# LLaMA3.1-70B need this, not for Qwen2.5-72B \n",
    "import concurrent.futures\n",
    "from datasets import Dataset\n",
    "\n",
    "# 用于存储有效和无效的记录\n",
    "valid_data = []\n",
    "invalid_data = []\n",
    "\n",
    "# 预处理单条数据的函数\n",
    "def process_record(index, record):\n",
    "    try:\n",
    "        # 如果需要，先进行数据转换\n",
    "        if isinstance(record['quality'], str) and record['quality'].isdigit():\n",
    "            record['quality'] = int(record['quality'])\n",
    "        # 可以继续添加其他字段的检查和转换\n",
    "        if isinstance(record['difficulty'], str) and record['difficulty'].isdigit():\n",
    "            record['difficulty'] = int(record['difficulty'])\n",
    "        if isinstance(record['relevance_to_medicine'], str) and record['relevance_to_medicine'].isdigit():\n",
    "            record['relevance_to_medicine'] = int(record['relevance_to_medicine'])\n",
    "\n",
    "        return (True, record)  # 返回有效数据\n",
    "    except Exception as e:\n",
    "        return (False, (index, record, str(e)))  # 返回无效数据\n",
    "\n",
    "# 使用多进程并行处理\n",
    "with concurrent.futures.ThreadPoolExecutor() as executor:\n",
    "    futures = {executor.submit(process_record, index, record): index for index, record in enumerate(data)}\n",
    "    \n",
    "    for future in concurrent.futures.as_completed(futures):\n",
    "        success, result = future.result()\n",
    "        if success:\n",
    "            valid_data.append(result)\n",
    "        else:\n",
    "            invalid_data.append(result)\n",
    "\n",
    "# 打印出无法转换的数据\n",
    "if invalid_data:\n",
    "    print(f\"Found {len(invalid_data)} invalid records:\")\n",
    "    for index, record, error in invalid_data:\n",
    "        print(f\"Error processing record at index {index}: {record}\")\n",
    "        print(f\"Error message: {error}\")"
   ]
  },
  {
   "cell_type": "code",
   "execution_count": 14,
   "metadata": {},
   "outputs": [
    {
     "name": "stdout",
     "output_type": "stream",
     "text": [
      "Dataset({\n",
      "    features: ['quality', 'difficulty', 'relevance_to_medicine', 'mention_specific_details', 'ids'],\n",
      "    num_rows: 5000\n",
      "})\n"
     ]
    },
    {
     "name": "stderr",
     "output_type": "stream",
     "text": [
      "Saving the dataset (1/1 shards): 100%|██████████| 5000/5000 [00:00<00:00, 471026.66 examples/s]\n"
     ]
    }
   ],
   "source": [
    "# 使用 datasets 库创建数据集\n",
    "ins_score_set = Dataset.from_list(data)\n",
    "\n",
    "# 将 \"ids\" 列表添加到数据集中\n",
    "ins_score_set = ins_score_set.add_column(\"ids\", successful_indexes)\n",
    "\n",
    "# 输出数据集内容\n",
    "print(ins_score_set)\n",
    "\n",
    "# ins_score_set.save_to_disk(\"/home/ma-user/work/code_dev/cth/data/scoring/ins1_score\")\n",
    "ins_score_set.save_to_disk(\"/home/ubuntu/disk/score/aquila\")\n",
    "\n",
    "# np.save('/home/ma-user/work/code_dev/cth/data/scoring/successful_indexes1.npy', successful_indexes)\n",
    "# np.save('/home/ubuntu/disk/score/successful_indexes2.npy', successful_indexes)"
   ]
  },
  {
   "cell_type": "markdown",
   "metadata": {},
   "source": [
    "### ResGen"
   ]
  },
  {
   "cell_type": "code",
   "execution_count": 9,
   "metadata": {},
   "outputs": [
    {
     "name": "stdout",
     "output_type": "stream",
     "text": [
      "500 {\n",
      "    \"answer1\": \"Financial penalties for non-compliance by healthcare entities can have significant impacts on the quality and accessibility of healthcare services. These penalties, often imposed for violations of regulatory standards such as patient privacy (HIPAA) or quality of care, can lead to financial strain on healthcare facilities. This strain can result in reduced resources for patient care, fewer staff, and less investment in essential medical equipment and training, which can directly affect the quality of care provided. For under-resourced facilities, these penalties can be particularly detrimental, as they often have limited financial reserves to begin with. To ensure these penalties do not disproportionately affect under-resourced facilities, several measures can be taken. Firstly, regulatory bodies can provide technical assistance and training to help these facilities understand and comply with regulations. Secondly, a graduated penalty system can be implemented, where the severity of penalties is proportional to the severity and frequency of violations. Additionally, financial incentives can be offered for compliance, such as grants or subsidies for improving infrastructure and training. Lastly, community partnerships can be fostered to provide additional support and resources to these facilities, helping them maintain high standards of care without facing insurmountable financial burdens.\",\n",
      "    \"answer2\": \"The imposition of financial penalties on healthcare entities for non-compliance can have both positive and negative impacts on the quality and accessibility of healthcare services. On the positive side, these penalties can act as a strong deterrent against non-compliance, encouraging facilities to adhere to regulatory standards and thereby potentially improving the overall quality of care. However, the negative impacts are more pronounced, especially for under-resourced facilities. These penalties can lead to budget constraints, which may force facilities to cut costs in critical areas such as staffing, equipment, and training, thereby reducing the quality of care. Moreover, the financial strain can limit the accessibility of services, as facilities may have to reduce the number of patients they can serve or even close down. To mitigate these adverse effects, several measures can be implemented. One approach is to provide targeted financial support to under-resourced facilities to help them meet compliance requirements. This can include grants, low-interest loans, or subsidies. Another measure is to offer technical assistance and training programs to help these facilities understand and implement the necessary compliance measures. Additionally, a risk-adjusted penalty system can be adopted, where the penalties are adjusted based on the facility's financial capacity and the severity of the violation. Finally, fostering collaborations between government agencies, non-profits, and private sector organizations can provide a support network that helps under-resourced facilities navigate regulatory requirements and maintain high standards of care.\"\n",
      "}\n"
     ]
    }
   ],
   "source": [
    "import json\n",
    "from datasets import Dataset\n",
    "import numpy as np\n",
    "\n",
    "# 读取 JSON 文件\n",
    "# Scoring\n",
    "with open('/home/ma-user/work/code_dev/cth/data/output_list/res_output_list_common.json', 'r') as f:\n",
    "    output_list = json.load(f)\n",
    "\n",
    "# with open('/home/ma-user/work/code_dev/cth/data/output_list/res_output_list_complex1.json', 'r') as f:\n",
    "#     output_list = json.load(f)\n",
    "# with open('/home/ma-user/work/code_dev/cth/data/output_list/res_output_list_complex2.json', 'r') as f:\n",
    "#     output_list = json.load(f)\n",
    "print(len(output_list), output_list[0])"
   ]
  },
  {
   "cell_type": "code",
   "execution_count": 10,
   "metadata": {},
   "outputs": [
    {
     "data": {
      "text/plain": [
       "0"
      ]
     },
     "execution_count": 10,
     "metadata": {},
     "output_type": "execute_result"
    }
   ],
   "source": [
    "# common 解析, comlex 不解析\n",
    "# 初始化存储成功解析的 JSON 数据和成功序号的列表\n",
    "data = []\n",
    "successful_indexes = []\n",
    "flag = 0\n",
    "\n",
    "# 使用列表推导解析 JSON，跳过有错误的项\n",
    "for idx, item in enumerate(output_list):\n",
    "    try:\n",
    "        # 尝试解析 JSON\n",
    "        parsed_item = json.loads(item)\n",
    "        data.append(parsed_item)\n",
    "        successful_indexes.append(idx)  # 保存成功解析的序号\n",
    "    except json.JSONDecodeError:\n",
    "        # 如果解析失败，打印错误信息并跳过当前项\n",
    "        flag = 1\n",
    "        continue\n",
    "\n",
    "if flag:\n",
    "    print(\"存在解析失败\")\n",
    "len(output_list) - len(successful_indexes)"
   ]
  },
  {
   "cell_type": "code",
   "execution_count": 27,
   "metadata": {},
   "outputs": [
    {
     "name": "stdout",
     "output_type": "stream",
     "text": [
      "Dataset({\n",
      "    features: ['answer1', 'answer2'],\n",
      "    num_rows: 95\n",
      "})\n",
      "Dataset({\n",
      "    features: ['answer'],\n",
      "    num_rows: 95\n",
      "})\n",
      "Dataset({\n",
      "    features: ['answer'],\n",
      "    num_rows: 95\n",
      "})\n"
     ]
    },
    {
     "name": "stderr",
     "output_type": "stream",
     "text": [
      "Saving the dataset (1/1 shards): 100%|██████████| 95/95 [00:00<00:00, 9564.08 examples/s] \n",
      "Saving the dataset (1/1 shards): 100%|██████████| 95/95 [00:00<00:00, 10861.63 examples/s]\n"
     ]
    }
   ],
   "source": [
    "# common:\n",
    "# 使用 datasets 库创建数据集\n",
    "dataset = Dataset.from_list(data)\n",
    "# 输出数据集内容\n",
    "print(dataset)\n",
    "\n",
    "answer1 = dataset[\"answer1\"]\n",
    "answer1_dict = {\"answer\": answer1}\n",
    "answer1_set = Dataset.from_dict(answer1_dict)\n",
    "print(answer1_set)\n",
    "\n",
    "answer2 = dataset[\"answer2\"]\n",
    "answer2_dict = {\"answer\": answer2}\n",
    "answer2_set = Dataset.from_dict(answer2_dict)\n",
    "print(answer2_set)\n",
    "\n",
    "answer1_set.save_to_disk(\"/home/ubuntu/disk/gen_response/res1\")\n",
    "answer2_set.save_to_disk(\"/home/ubuntu/disk/gen_response/res2\")\n",
    "\n",
    "np.save('/home/ubuntu/disk/gen_response/successful_indexes.npy', successful_indexes)"
   ]
  },
  {
   "cell_type": "code",
   "execution_count": 31,
   "metadata": {},
   "outputs": [
    {
     "name": "stdout",
     "output_type": "stream",
     "text": [
      "Dataset({\n",
      "    features: ['answer'],\n",
      "    num_rows: 1\n",
      "})\n"
     ]
    },
    {
     "name": "stderr",
     "output_type": "stream",
     "text": [
      "Saving the dataset (1/1 shards): 100%|██████████| 1/1 [00:00<00:00, 177.04 examples/s]\n"
     ]
    }
   ],
   "source": [
    "# complex: \n",
    "answer_dict = {\"answer\": output_list}\n",
    "answer_set = Dataset.from_dict(answer_dict)\n",
    "print(answer_set)\n",
    "\n",
    "# answer_set.save_to_disk(\"/home/ubuntu/test_disk/res1_qwq\")\n",
    "answer_set.save_to_disk(\"/home/ubuntu/test_disk/res2_qwq\")"
   ]
  }
 ],
 "metadata": {
  "kernelspec": {
   "display_name": "pytorch",
   "language": "python",
   "name": "python3"
  },
  "language_info": {
   "codemirror_mode": {
    "name": "ipython",
    "version": 3
   },
   "file_extension": ".py",
   "mimetype": "text/x-python",
   "name": "python",
   "nbconvert_exporter": "python",
   "pygments_lexer": "ipython3",
   "version": "3.9.16"
  }
 },
 "nbformat": 4,
 "nbformat_minor": 2
}
