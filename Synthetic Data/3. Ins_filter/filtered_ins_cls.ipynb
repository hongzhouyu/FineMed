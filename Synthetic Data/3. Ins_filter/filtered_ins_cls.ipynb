{
 "cells": [
  {
   "cell_type": "markdown",
   "metadata": {},
   "source": [
    "Divide instruction into common and complex"
   ]
  },
  {
   "cell_type": "code",
   "execution_count": null,
   "metadata": {},
   "outputs": [],
   "source": [
    "from datasets import load_from_disk\n",
    "\n",
    "ins_text_set = load_from_disk(\"data/scoring/ins_text\")\n",
    "ins_text_set"
   ]
  },
  {
   "cell_type": "code",
   "execution_count": 2,
   "metadata": {},
   "outputs": [
    {
     "data": {
      "text/plain": [
       "(169279, 422)"
      ]
     },
     "execution_count": 2,
     "metadata": {},
     "output_type": "execute_result"
    }
   ],
   "source": [
    "common_list, complex_list = [], []\n",
    "for ids, data in enumerate(ins_text_set):\n",
    "    if data[\"complexity\"] > 8:\n",
    "        complex_list.append(ids)\n",
    "    else:\n",
    "        common_list.append(ids)\n",
    "len(common_list), len(complex_list)"
   ]
  },
  {
   "cell_type": "code",
   "execution_count": 3,
   "metadata": {},
   "outputs": [
    {
     "data": {
      "text/plain": [
       "(Dataset({\n",
       "     features: ['ids', 'text', 'instruction', 'complexity', 'quality', 'language'],\n",
       "     num_rows: 169279\n",
       " }),\n",
       " Dataset({\n",
       "     features: ['ids', 'text', 'instruction', 'complexity', 'quality', 'language'],\n",
       "     num_rows: 422\n",
       " }))"
      ]
     },
     "execution_count": 3,
     "metadata": {},
     "output_type": "execute_result"
    }
   ],
   "source": [
    "common_ins = ins_text_set.select(common_list)\n",
    "complex_ins = ins_text_set.select(complex_list)\n",
    "common_ins, complex_ins"
   ]
  },
  {
   "cell_type": "code",
   "execution_count": 4,
   "metadata": {},
   "outputs": [
    {
     "name": "stderr",
     "output_type": "stream",
     "text": [
      "Saving the dataset (0/2 shards):   0%|          | 0/169279 [00:00<?, ? examples/s]"
     ]
    },
    {
     "name": "stderr",
     "output_type": "stream",
     "text": [
      "Saving the dataset (2/2 shards): 100%|██████████| 169279/169279 [00:01<00:00, 90549.85 examples/s] \n",
      "Saving the dataset (1/1 shards): 100%|██████████| 422/422 [00:00<00:00, 14010.34 examples/s]\n"
     ]
    }
   ],
   "source": [
    "common_ins.save_to_disk(\"data/responses/common_ins\")\n",
    "complex_ins.save_to_disk(\"data/responses/complex_ins\")"
   ]
  }
 ],
 "metadata": {
  "kernelspec": {
   "display_name": "sft",
   "language": "python",
   "name": "python3"
  },
  "language_info": {
   "codemirror_mode": {
    "name": "ipython",
    "version": 3
   },
   "file_extension": ".py",
   "mimetype": "text/x-python",
   "name": "python",
   "nbconvert_exporter": "python",
   "pygments_lexer": "ipython3",
   "version": "3.9.19"
  }
 },
 "nbformat": 4,
 "nbformat_minor": 2
}
