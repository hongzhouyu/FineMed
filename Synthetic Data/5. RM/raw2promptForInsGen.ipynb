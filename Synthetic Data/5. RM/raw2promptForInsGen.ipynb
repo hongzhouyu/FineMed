{
 "cells": [
  {
   "cell_type": "markdown",
   "metadata": {},
   "source": [
    "raw2text"
   ]
  },
  {
   "cell_type": "code",
   "execution_count": null,
   "metadata": {},
   "outputs": [],
   "source": [
    "from datasets import load_from_disk\n",
    "\n",
    "dataset = load_from_disk(\"datapath\")\n",
    "print(dataset)"
   ]
  },
  {
   "cell_type": "code",
   "execution_count": 2,
   "metadata": {},
   "outputs": [
    {
     "data": {
      "text/plain": [
       "{'token_count': 365,\n",
       " 'language': 'en',\n",
       " 'text': 'COOLIEF radiofrequency is a new non-invasive, outpatient treatment option for those suffering from knee pain, hip pain, SI joint, and chronic back pain. This advanced procedure uses radiofrequency energy to safely target the sensory nerves causing pain. COOLIEF circulates water through the device that serves as a heat sink while heating nerves to create a treatment area that is larger than conventional radiofrequency ablation. This combination targets the pain-causing nerves without excessive heating or damage to surrounding tissues. I have performed this procedure with great success for many patients. It is safe for patients who have undergone joint replacement because this procedure blocks nerve pain before the nerves enter the joint space.\\nMedical marijuana has been in the news a lot lately. Since it became legal under Florida state law for certain medical conditions, many people have asked me about whether it is right for them or their loved ones, whether it is legal, what forms of the drug may be used, and how to find a treatment center.\\nTo address these and other questions, I will be giving a talk tonight February 28, 2018 at 6:00pm at the West St. Petersburg Community Library at 6605 5th Ave. N St. Petersburg, FL 33710.\\nSorry for the short notice – I will try to advertise these community talks further in advance. If you cannot make it to the talk, you may find some of your answers at the Office of Medical Marijuana Use. Or feel free to call my office at (727) 495-6085.\\nIn June, Dr. Bunch appeared on Bay News 9 to discuss Coolief, a technique for treating knee, hip, low back and other joint pains. The procedure is an outpatient, non-invasive treatment that has FDA approval for osteoarthritis.',\n",
       " 'domain': 'medical'}"
      ]
     },
     "execution_count": 2,
     "metadata": {},
     "output_type": "execute_result"
    }
   ],
   "source": [
    "dataset[1]"
   ]
  },
  {
   "cell_type": "code",
   "execution_count": 3,
   "metadata": {},
   "outputs": [],
   "source": [
    "from transformers import AutoTokenizer\n",
    "tokenizer = AutoTokenizer.from_pretrained(\"path/to/qwen72b\")"
   ]
  },
  {
   "cell_type": "code",
   "execution_count": 6,
   "metadata": {},
   "outputs": [
    {
     "data": {
      "text/plain": [
       "30"
      ]
     },
     "execution_count": 6,
     "metadata": {},
     "output_type": "execute_result"
    }
   ],
   "source": [
    "# This code is used to check the length added after adding chat_template.\n",
    "inputs = []\n",
    "prompts = [\"\"]\n",
    "messages_template = [\n",
    "    {\"role\": \"system\", \"content\": \"You are a professional doctor and can determine whether the following conversations involve the medical field.\"},\n",
    "    {\"role\": \"user\", \"content\": \"{prompt}\"}\n",
    "]\n",
    "\n",
    "def create_messages(prompt):\n",
    "    return [\n",
    "        msg.copy() if msg[\"role\"] == \"system\" \n",
    "        else {\"role\": \"user\", \"content\": prompt}\n",
    "        for msg in messages_template\n",
    "    ]\n",
    "\n",
    "for prompt in prompts:\n",
    "    messages = create_messages(prompt)\n",
    "    text = tokenizer.apply_chat_template(\n",
    "        messages,\n",
    "        tokenize=False,\n",
    "        add_generation_prompt=True\n",
    "    )\n",
    "    inputs.append(text)\n",
    "len(tokenizer.encode(inputs[0]))"
   ]
  },
  {
   "cell_type": "code",
   "execution_count": 4,
   "metadata": {},
   "outputs": [
    {
     "data": {
      "text/plain": [
       "'\\nYou need to generate two questions based on the given text content. These questions can be open-ended, detail-oriented, or related to a broader discussion of the content, but avoid relying on specific case details from the text. Follow these requirements:\\nRequirements:\\n1. Make sure the questions are closely related to the main points or themes mentioned in the text.\\n2. Ensure the two questions are as diverse as possible, avoiding homogeneity.\\n3. Ensure the questions include all the information needed for the answers. If necessary, add introductory information to the questions.\\n4. Avoid repetitive or overly simplistic questions, ensuring diversity and depth.\\n5. The questions must be self-contained and should not require the provided text as background to be understood.\\nPlease rewrite the following text into related questions, and strictly follow the format below for output:\\n{\\n    \"question1\": \"Generated first question\",\\n    \"question2\": \"Generated second question\"\\n}\\nHere is the sample text:\\n'"
      ]
     },
     "execution_count": 4,
     "metadata": {},
     "output_type": "execute_result"
    }
   ],
   "source": [
    "p = \"\"\"\n",
    "You need to generate two questions based on the given text content. These questions can be open-ended, detail-oriented, or related to a broader discussion of the content, but avoid relying on specific case details from the text. Follow these requirements:\n",
    "Requirements:\n",
    "1. Make sure the questions are closely related to the main points or themes mentioned in the text.\n",
    "2. Ensure the two questions are as diverse as possible, avoiding homogeneity.\n",
    "3. Ensure the questions include all the information needed for the answers. If necessary, add introductory information to the questions.\n",
    "4. Avoid repetitive or overly simplistic questions, ensuring diversity and depth.\n",
    "5. The questions must be self-contained and should not require the provided text as background to be understood.\n",
    "Please rewrite the following text into related questions, and strictly follow the format below for output:\n",
    "{\n",
    "    \"question1\": \"Generated first question\",\n",
    "    \"question2\": \"Generated second question\"\n",
    "}\n",
    "Here is the sample text:\n",
    "\"\"\"\n",
    "p"
   ]
  },
  {
   "cell_type": "code",
   "execution_count": 4,
   "metadata": {},
   "outputs": [],
   "source": [
    "def raw2text(example):\n",
    "    # Use a list to store string fragments and then join them all at once\n",
    "    text_parts = ['You need to generate two questions based on the given text content. These questions can be open-ended, detail-oriented, or related to a broader discussion of the content, but avoid relying on specific case details from the text. Follow these requirements:\\nRequirements:\\n1. Make sure the questions are closely related to the main points or themes mentioned in the text.\\n2. Ensure the two questions are as diverse as possible, avoiding homogeneity.\\n3. Ensure the questions include all the information needed for the answers. If necessary, add introductory information to the questions.\\n4. Avoid repetitive or overly simplistic questions, ensuring diversity and depth.\\n5. The questions must be self-contained and should not require the provided text as background to be understood.\\nPlease rewrite the following text into related questions, and strictly follow the format below for output:\\n{\\n    \"question1\": \"Generated first question\",\\n    \"question2\": \"Generated second question\"\\n}\\nHere is the sample text:\\n']\n",
    "    \n",
    "    text_parts.append(example[\"text\"])\n",
    "    \n",
    "    text = \"\".join(text_parts)\n",
    "    # Truncate the text so that the total length does not exceed 8192 after adding it to chat_template\n",
    "    if example[\"token_count\"] > 7965:\n",
    "        text = tokenizer.decode(tokenizer.encode(text, truncation=True, max_length=7965))\n",
    "\n",
    "    text += \"\\nOutput: \\n\"\n",
    "    example[\"new_text\"] = text\n",
    "    return example"
   ]
  },
  {
   "cell_type": "code",
   "execution_count": 5,
   "metadata": {},
   "outputs": [
    {
     "name": "stderr",
     "output_type": "stream",
     "text": [
      "Map (num_proc=128): 100%|██████████| 210000/210000 [02:12<00:00, 1590.72 examples/s]\n"
     ]
    },
    {
     "name": "stdout",
     "output_type": "stream",
     "text": [
      "Dataset({\n",
      "    features: ['new_text'],\n",
      "    num_rows: 210000\n",
      "})\n"
     ]
    }
   ],
   "source": [
    "refined_dataset = dataset.map(raw2text,remove_columns=dataset.column_names)\n",
    "print(refined_dataset)"
   ]
  },
  {
   "cell_type": "code",
   "execution_count": 6,
   "metadata": {},
   "outputs": [
    {
     "data": {
      "text/plain": [
       "{'new_text': 'You need to generate two questions based on the given text content. These questions can be open-ended, detail-oriented, or related to a broader discussion of the content, but avoid relying on specific case details from the text. Follow these requirements:\\nRequirements:\\n1. Make sure the questions are closely related to the main points or themes mentioned in the text.\\n2. Ensure the two questions are as diverse as possible, avoiding homogeneity.\\n3. Ensure the questions include all the information needed for the answers. If necessary, add introductory information to the questions.\\n4. Avoid repetitive or overly simplistic questions, ensuring diversity and depth.\\n5. The questions must be self-contained and should not require the provided text as background to be understood.\\nPlease rewrite the following text into related questions, and strictly follow the format below for output:\\n{\\n    \"question1\": \"Generated first question\",\\n    \"question2\": \"Generated second question\"\\n}\\nHere is the sample text:\\nIf you’re in need of a deep dental cleaning or small fillings, you would be a great test case for University of Missouri-Kansas City School of Dentistry students.\\nThe UMKC School of Dentistry is holding a public dental screening for people whose teeth need minor dental work from 8 a.m. to 2 p.m. Saturday, Jan. 28 at the school, 650 E. 25th St., Kansas City, Mo. 64108.\\nThe screening helps the school identify patients who are qualified to receive treatment from fourth-year students during the National Dental Boards Clinical Examination. For their time, patients will be reimbursed with free dental services and X-rays during the student screening and performance during the boards exams, held Saturday, March 25 through Tuesday, March 28.\\nPatients must meet all criteria:\\n- 18 or older\\n- In overall good health\\n- Reliable for attending appointments\\n- Not in braces or fixed orthodontics\\n- No dentures or the need for dentures\\n- More than 16 teeth with molar back teeth\\n- Not currently receiving chemotherapy or radiation treatment\\n- Must be available the weekend of March 25 during the National Dental Boards Exam\\nAppointments are required and are available by calling 913-608-4511.\\nOutput: \\n'}"
      ]
     },
     "execution_count": 6,
     "metadata": {},
     "output_type": "execute_result"
    }
   ],
   "source": [
    "refined_dataset[0]"
   ]
  },
  {
   "cell_type": "code",
   "execution_count": 7,
   "metadata": {},
   "outputs": [
    {
     "data": {
      "text/plain": [
       "Dataset({\n",
       "    features: ['text'],\n",
       "    num_rows: 210000\n",
       "})"
      ]
     },
     "execution_count": 7,
     "metadata": {},
     "output_type": "execute_result"
    }
   ],
   "source": [
    "refined_dataset = refined_dataset.rename_column(\"new_text\", \"text\")\n",
    "refined_dataset"
   ]
  },
  {
   "cell_type": "markdown",
   "metadata": {},
   "source": [
    "text2prompt"
   ]
  },
  {
   "cell_type": "code",
   "execution_count": 8,
   "metadata": {},
   "outputs": [],
   "source": [
    "messages_template = [\n",
    "    {\"role\": \"system\", \"content\": \"You are a helpful assistant.\"},\n",
    "    {\"role\": \"user\", \"content\": \"{prompt}\"}\n",
    "]\n",
    "\n",
    "def create_messages(prompt):\n",
    "    return [\n",
    "        msg.copy() if msg[\"role\"] == \"system\" \n",
    "        else {\"role\": \"user\", \"content\": prompt}\n",
    "        for msg in messages_template\n",
    "    ]"
   ]
  },
  {
   "cell_type": "code",
   "execution_count": 9,
   "metadata": {},
   "outputs": [],
   "source": [
    "def create_prompt(example):\n",
    "    message = create_messages(example[\"text\"])\n",
    "    text = tokenizer.apply_chat_template(\n",
    "        message,\n",
    "        tokenize=False,\n",
    "        add_generation_prompt=True\n",
    "    )\n",
    "    example[\"prompt\"] = text\n",
    "    return example"
   ]
  },
  {
   "cell_type": "code",
   "execution_count": 10,
   "metadata": {},
   "outputs": [
    {
     "name": "stderr",
     "output_type": "stream",
     "text": [
      "Map (num_proc=128): 100%|██████████| 210000/210000 [00:19<00:00, 10969.79 examples/s]\n"
     ]
    },
    {
     "data": {
      "text/plain": [
       "Dataset({\n",
       "    features: ['prompt'],\n",
       "    num_rows: 210000\n",
       "})"
      ]
     },
     "execution_count": 10,
     "metadata": {},
     "output_type": "execute_result"
    }
   ],
   "source": [
    "refined_dataset = refined_dataset.map(create_prompt, remove_columns=[\"text\"], num_proc=128)\n",
    "refined_dataset"
   ]
  },
  {
   "cell_type": "code",
   "execution_count": 11,
   "metadata": {},
   "outputs": [
    {
     "data": {
      "text/plain": [
       "{'prompt': '<|im_start|>system\\nYou are a helpful assistant.<|im_end|>\\n<|im_start|>user\\nYou need to generate two questions based on the given text content. These questions can be open-ended, detail-oriented, or related to a broader discussion of the content, but avoid relying on specific case details from the text. Follow these requirements:\\nRequirements:\\n1. Make sure the questions are closely related to the main points or themes mentioned in the text.\\n2. Ensure the two questions are as diverse as possible, avoiding homogeneity.\\n3. Ensure the questions include all the information needed for the answers. If necessary, add introductory information to the questions.\\n4. Avoid repetitive or overly simplistic questions, ensuring diversity and depth.\\n5. The questions must be self-contained and should not require the provided text as background to be understood.\\nPlease rewrite the following text into related questions, and strictly follow the format below for output:\\n{\\n    \"question1\": \"Generated first question\",\\n    \"question2\": \"Generated second question\"\\n}\\nHere is the sample text:\\nIf you’re in need of a deep dental cleaning or small fillings, you would be a great test case for University of Missouri-Kansas City School of Dentistry students.\\nThe UMKC School of Dentistry is holding a public dental screening for people whose teeth need minor dental work from 8 a.m. to 2 p.m. Saturday, Jan. 28 at the school, 650 E. 25th St., Kansas City, Mo. 64108.\\nThe screening helps the school identify patients who are qualified to receive treatment from fourth-year students during the National Dental Boards Clinical Examination. For their time, patients will be reimbursed with free dental services and X-rays during the student screening and performance during the boards exams, held Saturday, March 25 through Tuesday, March 28.\\nPatients must meet all criteria:\\n- 18 or older\\n- In overall good health\\n- Reliable for attending appointments\\n- Not in braces or fixed orthodontics\\n- No dentures or the need for dentures\\n- More than 16 teeth with molar back teeth\\n- Not currently receiving chemotherapy or radiation treatment\\n- Must be available the weekend of March 25 during the National Dental Boards Exam\\nAppointments are required and are available by calling 913-608-4511.\\nOutput: \\n<|im_end|>\\n<|im_start|>assistant\\n'}"
      ]
     },
     "execution_count": 11,
     "metadata": {},
     "output_type": "execute_result"
    }
   ],
   "source": [
    "refined_dataset[0]"
   ]
  },
  {
   "cell_type": "code",
   "execution_count": 12,
   "metadata": {},
   "outputs": [
    {
     "name": "stderr",
     "output_type": "stream",
     "text": [
      "Saving the dataset (3/3 shards): 100%|██████████| 210000/210000 [00:01<00:00, 156989.02 examples/s]\n"
     ]
    }
   ],
   "source": [
    "refined_dataset.save_to_disk(\"path\")"
   ]
  }
 ],
 "metadata": {
  "kernelspec": {
   "display_name": "vllm",
   "language": "python",
   "name": "python3"
  },
  "language_info": {
   "codemirror_mode": {
    "name": "ipython",
    "version": 3
   },
   "file_extension": ".py",
   "mimetype": "text/x-python",
   "name": "python",
   "nbconvert_exporter": "python",
   "pygments_lexer": "ipython3",
   "version": "3.12.8"
  }
 },
 "nbformat": 4,
 "nbformat_minor": 2
}
